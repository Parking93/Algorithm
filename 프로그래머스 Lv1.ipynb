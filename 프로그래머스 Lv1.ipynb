{
 "cells": [
  {
   "cell_type": "markdown",
   "metadata": {
    "id": "VuJa3xhcJ78q"
   },
   "source": [
    "## 1.01 자릿수 더하기 \n",
    "\n",
    "자연수 N이 주어지면, N의 각 자릿수의 합을 구해서 return 하는 solution 함수를 만들어 주세요.\n",
    "예를들어 N = 123이면 1 + 2 + 3 = 6을 return 하면 됩니다."
   ]
  },
  {
   "cell_type": "code",
   "execution_count": null,
   "metadata": {
    "id": "iujL0w3zJ4D3"
   },
   "outputs": [],
   "source": [
    "# N\tanswer\n",
    "# 123\t6\n",
    "# 987\t24\n",
    "\n",
    "def sol(N):\n",
    "    answer = [int(i) for i in str(N)]\n",
    "    return sum(answer)"
   ]
  },
  {
   "cell_type": "markdown",
   "metadata": {
    "id": "wo5YKqa0K9e4"
   },
   "source": [
    "## 1.02 짝수와 홀수 \n",
    "\n",
    "정수 num이 짝수일 경우 \"Even\"을 반환하고 홀수인 경우 \"Odd\"를 반환하는 함수, solution을 완성해주세요."
   ]
  },
  {
   "cell_type": "code",
   "execution_count": null,
   "metadata": {
    "colab": {
     "base_uri": "https://localhost:8080/",
     "height": 35
    },
    "executionInfo": {
     "elapsed": 6,
     "status": "ok",
     "timestamp": 1684150253407,
     "user": {
      "displayName": "박재혁",
      "userId": "12595583987209279585"
     },
     "user_tz": -540
    },
    "id": "-Oq2f0mzKQu6",
    "outputId": "84c1b2e4-03b3-4ccf-f3e3-e7f5be186b53"
   },
   "outputs": [
    {
     "data": {
      "application/vnd.google.colaboratory.intrinsic+json": {
       "type": "string"
      },
      "text/plain": [
       "'Even'"
      ]
     },
     "execution_count": 12,
     "metadata": {},
     "output_type": "execute_result"
    }
   ],
   "source": [
    "# num\treturn\n",
    "# 3\t\"Odd\"\n",
    "# 4\t\"Even\"\n",
    "\n",
    "def sol(num):\n",
    "    if num % 2 == 0:\n",
    "        return 'Even'\n",
    "    else:\n",
    "        return 'Odd'\n",
    "sol(4)"
   ]
  },
  {
   "cell_type": "markdown",
   "metadata": {
    "id": "7RN4kMhALY_-"
   },
   "source": [
    "## 1.03 약수의 합 \n",
    "\n",
    "정수 n을 입력받아 n의 약수를 모두 더한 값을 리턴하는 함수, solution을 완성해주세요.\n",
    "\n"
   ]
  },
  {
   "cell_type": "code",
   "execution_count": null,
   "metadata": {
    "colab": {
     "base_uri": "https://localhost:8080/"
    },
    "executionInfo": {
     "elapsed": 4,
     "status": "ok",
     "timestamp": 1684150708932,
     "user": {
      "displayName": "박재혁",
      "userId": "12595583987209279585"
     },
     "user_tz": -540
    },
    "id": "b8lbV0VmLeVl",
    "outputId": "bab621fa-a96c-42ea-9a07-f1b237291c75"
   },
   "outputs": [
    {
     "data": {
      "text/plain": [
       "6"
      ]
     },
     "execution_count": 18,
     "metadata": {},
     "output_type": "execute_result"
    }
   ],
   "source": [
    "# n\treturn\n",
    "# 12\t28\n",
    "# 5\t    6\n",
    "\n",
    "def sol(n):\n",
    "    return sum([i for i in range(1, n+1) if n % i == 0])\n",
    "sol(5)"
   ]
  },
  {
   "cell_type": "markdown",
   "metadata": {
    "id": "AyyiQXJANdLc"
   },
   "source": [
    "## 1.04 평균 구하기\n",
    "\n",
    "정수를 담고 있는 배열 arr의 평균값을 return하는 함수, solution을 완성해보세요.\n",
    "\n"
   ]
  },
  {
   "cell_type": "code",
   "execution_count": null,
   "metadata": {
    "colab": {
     "base_uri": "https://localhost:8080/"
    },
    "executionInfo": {
     "elapsed": 2,
     "status": "ok",
     "timestamp": 1684150889934,
     "user": {
      "displayName": "박재혁",
      "userId": "12595583987209279585"
     },
     "user_tz": -540
    },
    "id": "Ry5n3lAyNTmE",
    "outputId": "a24f6d17-9f75-45ac-e2f8-ba93ff4e95c9"
   },
   "outputs": [
    {
     "data": {
      "text/plain": [
       "2.5"
      ]
     },
     "execution_count": 23,
     "metadata": {},
     "output_type": "execute_result"
    }
   ],
   "source": [
    "# arr\t    return\n",
    "# [1,2,3,4]\t2.5\n",
    "# [5,5]\t    5\n",
    "\n",
    "def sol(arr):\n",
    "    return sum(arr)/len(arr)\n",
    "sol([1, 2, 3, 4])"
   ]
  },
  {
   "cell_type": "markdown",
   "metadata": {
    "id": "poBrJuWCNzwQ"
   },
   "source": [
    "## 1.05 나머지가 1이 되는 수 찾기\n",
    "\n",
    "자연수 n이 매개변수로 주어집니다. n을 x로 나눈 나머지가 1이 되도록 하는 가장 작은 자연수 x를 return 하도록 solution 함수를 완성해주세요. 답이 항상 존재함은 증명될 수 있습니다."
   ]
  },
  {
   "cell_type": "code",
   "execution_count": null,
   "metadata": {
    "colab": {
     "base_uri": "https://localhost:8080/"
    },
    "executionInfo": {
     "elapsed": 241,
     "status": "ok",
     "timestamp": 1684151087130,
     "user": {
      "displayName": "박재혁",
      "userId": "12595583987209279585"
     },
     "user_tz": -540
    },
    "id": "Q9gTAs8JNyly",
    "outputId": "31ad6914-0b1f-4c60-dc25-b06cbbb29f22"
   },
   "outputs": [
    {
     "data": {
      "text/plain": [
       "11"
      ]
     },
     "execution_count": 28,
     "metadata": {},
     "output_type": "execute_result"
    }
   ],
   "source": [
    "# n\tresult\n",
    "# 10\t3\n",
    "# 12\t11\n",
    "\n",
    "def sol(n):\n",
    "    for i in range(1, n+1):\n",
    "        if n % i == 1:\n",
    "            return i\n",
    "            break\n",
    "sol(12)"
   ]
  },
  {
   "cell_type": "markdown",
   "metadata": {
    "id": "m2AIXpKdOkus"
   },
   "source": [
    "## 1.06 x만큼 간격이 있는 n개의 숫자\n",
    "\n",
    "함수 solution은 정수 x와 자연수 n을 입력 받아, x부터 시작해 x씩 증가하는 숫자를 n개 지니는 리스트를 리턴해야 합니다. 다음 제한 조건을 보고, 조건을 만족하는 함수, solution을 완성해주세요."
   ]
  },
  {
   "cell_type": "code",
   "execution_count": null,
   "metadata": {
    "colab": {
     "base_uri": "https://localhost:8080/"
    },
    "executionInfo": {
     "elapsed": 3,
     "status": "ok",
     "timestamp": 1684151278018,
     "user": {
      "displayName": "박재혁",
      "userId": "12595583987209279585"
     },
     "user_tz": -540
    },
    "id": "QC3sIESaOANr",
    "outputId": "54717b5f-05ee-46c7-fcef-31e9c386889e"
   },
   "outputs": [
    {
     "data": {
      "text/plain": [
       "[4, 8, 12]"
      ]
     },
     "execution_count": 32,
     "metadata": {},
     "output_type": "execute_result"
    }
   ],
   "source": [
    "# x\t n\tanswer\n",
    "# 2\t 5\t[2,4,6,8,10]\n",
    "# 4\t 3\t[4,8,12]\n",
    "# -4 2\t[-4, -8]\n",
    "\n",
    "def sol(x, n):\n",
    "    return list(range(x, x*n + 1, x))\n"
   ]
  },
  {
   "cell_type": "markdown",
   "metadata": {
    "id": "2ExOVD8QPSjM"
   },
   "source": [
    "## 1.07 문자열 내 p와 y의 개수\n",
    "\n",
    "대문자와 소문자가 섞여있는 문자열 s가 주어집니다. s에 'p'의 개수와 'y'의 개수를 비교해 같으면 True, 다르면 False를 return 하는 solution를 완성하세요. 'p', 'y' 모두 하나도 없는 경우는 항상 True를 리턴합니다. 단, 개수를 비교할 때 대문자와 소문자는 구별하지 않습니다.\n",
    "\n",
    "예를 들어 s가 \"pPoooyY\"면 true를 return하고 \"Pyy\"라면 false를 return합니다.\n",
    "\n",
    "\n",
    "[제한사항]\n",
    "\n",
    "문자열 s의 길이 : 50 이하의 자연수\n",
    "문자열 s는 알파벳으로만 이루어져 있습니다."
   ]
  },
  {
   "cell_type": "code",
   "execution_count": null,
   "metadata": {
    "colab": {
     "base_uri": "https://localhost:8080/",
     "height": 35
    },
    "executionInfo": {
     "elapsed": 5,
     "status": "ok",
     "timestamp": 1684151491375,
     "user": {
      "displayName": "박재혁",
      "userId": "12595583987209279585"
     },
     "user_tz": -540
    },
    "id": "Ou5xxRG2OMuT",
    "outputId": "be5837d5-d42b-4fdf-a8ac-7ca0ad5afe45"
   },
   "outputs": [
    {
     "data": {
      "application/vnd.google.colaboratory.intrinsic+json": {
       "type": "string"
      },
      "text/plain": [
       "'false'"
      ]
     },
     "execution_count": 35,
     "metadata": {},
     "output_type": "execute_result"
    }
   ],
   "source": [
    "# s         answer\n",
    "# \"pPoooyY\"\ttrue\n",
    "# \"Pyy\" \tfalse\n",
    "\n",
    "def sol(s):\n",
    "    s = s.lower()\n",
    "    if s.count('p') == s.count('y'):\n",
    "        return 'true'\n",
    "    else:\n",
    "        return 'false'\n",
    "sol(\"Pyy\")"
   ]
  },
  {
   "cell_type": "markdown",
   "metadata": {
    "id": "gz6xFMfsQIrj"
   },
   "source": [
    "## 1.08 자연수 뒤집어 배열로 만들기\n",
    "\n",
    "자연수 n을 뒤집어 각 자리 숫자를 원소로 가지는 배열 형태로 리턴해주세요. 예를들어 n이 12345이면 [5,4,3,2,1]을 리턴합니다."
   ]
  },
  {
   "cell_type": "code",
   "execution_count": null,
   "metadata": {
    "colab": {
     "base_uri": "https://localhost:8080/"
    },
    "executionInfo": {
     "elapsed": 3,
     "status": "ok",
     "timestamp": 1684151644169,
     "user": {
      "displayName": "박재혁",
      "userId": "12595583987209279585"
     },
     "user_tz": -540
    },
    "id": "0LVy53O9P24N",
    "outputId": "755044ea-d4b2-4905-fc73-679db45019b6"
   },
   "outputs": [
    {
     "name": "stdout",
     "output_type": "stream",
     "text": [
      "[5, 4, 3, 2, 1]\n"
     ]
    }
   ],
   "source": [
    "# n\t    return\n",
    "# 12345\t[5,4,3,2,1]\n",
    "\n",
    "def sol(n):\n",
    "    str_num = sorted([int(i) for i in str(n)], reverse = True)\n",
    "sol(12345)"
   ]
  },
  {
   "cell_type": "markdown",
   "metadata": {
    "id": "_rzkN-E-QuBn"
   },
   "source": [
    "## 1.09 정수 제곱근 판별\n",
    "\n",
    "임의의 양의 정수 n에 대해, n이 어떤 양의 정수 x의 제곱인지 아닌지 판단하려 합니다.\n",
    "n이 양의 정수 x의 제곱이라면 x+1의 제곱을 리턴하고, n이 양의 정수 x의 제곱이 아니라면 -1을 리턴하는 함수를 완성하세요."
   ]
  },
  {
   "cell_type": "code",
   "execution_count": null,
   "metadata": {
    "colab": {
     "base_uri": "https://localhost:8080/"
    },
    "executionInfo": {
     "elapsed": 2,
     "status": "ok",
     "timestamp": 1684152861052,
     "user": {
      "displayName": "박재혁",
      "userId": "12595583987209279585"
     },
     "user_tz": -540
    },
    "id": "hdC0TLPeQjwz",
    "outputId": "d0d956c5-7dc4-4953-db56-e2ac14b85777"
   },
   "outputs": [
    {
     "data": {
      "text/plain": [
       "-1"
      ]
     },
     "execution_count": 52,
     "metadata": {},
     "output_type": "execute_result"
    }
   ],
   "source": [
    "# n\treturn\n",
    "# 121\t144\n",
    "# 3\t    -1\n",
    "\n",
    "def sol(n):\n",
    "    if len(str(n**(1/2)).split('.')[1]) > 2:\n",
    "        return -1\n",
    "    else:\n",
    "        return int(((n**(1/2))+1) ** 2)\n",
    "sol(3)\n",
    "\n",
    "\n"
   ]
  },
  {
   "cell_type": "markdown",
   "metadata": {
    "id": "UVByV15TVWly"
   },
   "source": [
    "## 1.10 문자열을 정수로 바꾸기 \n",
    "\n",
    "문자열 s를 숫자로 변환한 결과를 반환하는 함수, solution을 완성하세요.\n",
    "\n",
    "[제한 조건]\n",
    "* s의 길이는 1 이상 5이하입니다.\n",
    "* s의 맨앞에는 부호(+, -)가 올 수 있습니다.\n",
    "* s는 부호와 숫자로만 이루어져있습니다.\n",
    "* s는 \"0\"으로 시작하지 않습니다.\n"
   ]
  },
  {
   "cell_type": "code",
   "execution_count": null,
   "metadata": {
    "colab": {
     "base_uri": "https://localhost:8080/"
    },
    "executionInfo": {
     "elapsed": 3,
     "status": "ok",
     "timestamp": 1684153204480,
     "user": {
      "displayName": "박재혁",
      "userId": "12595583987209279585"
     },
     "user_tz": -540
    },
    "id": "ghem6cWdVeX5",
    "outputId": "356cf841-d6fa-48ad-96d9-cf2509105755"
   },
   "outputs": [
    {
     "data": {
      "text/plain": [
       "1234"
      ]
     },
     "execution_count": 58,
     "metadata": {},
     "output_type": "execute_result"
    }
   ],
   "source": [
    "# 예를들어 str이 \"1234\"이면 1234를 반환하고, \"-1234\"이면 -1234를 반환하면 됩니다.\n",
    "\n",
    "def sol(str):\n",
    "    num = ''\n",
    "    if '+' in str:\n",
    "        num = str[1:]\n",
    "    elif '-' in str:\n",
    "        num = str[1:]\n",
    "    else:\n",
    "        num = str\n",
    "    return(int(num))\n",
    "sol('+1234')"
   ]
  },
  {
   "cell_type": "markdown",
   "metadata": {
    "id": "AZ3jndu4WpA5"
   },
   "source": [
    "## 1.11 정수 내림차순으로 배치하기\n",
    "\n",
    "함수 solution은 정수 n을 매개변수로 입력받습니다. n의 각 자릿수를 큰것부터 작은 순으로 정렬한 새로운 정수를 리턴해주세요. 예를들어 n이 118372면 873211을 리턴하면 됩니다."
   ]
  },
  {
   "cell_type": "code",
   "execution_count": null,
   "metadata": {
    "colab": {
     "base_uri": "https://localhost:8080/"
    },
    "executionInfo": {
     "elapsed": 3,
     "status": "ok",
     "timestamp": 1684156137750,
     "user": {
      "displayName": "박재혁",
      "userId": "12595583987209279585"
     },
     "user_tz": -540
    },
    "id": "7FHlwQDkS6F9",
    "outputId": "c3a0cbf3-a1ee-494b-af0a-1452a6adefe3"
   },
   "outputs": [
    {
     "data": {
      "text/plain": [
       "873211"
      ]
     },
     "execution_count": 62,
     "metadata": {},
     "output_type": "execute_result"
    }
   ],
   "source": [
    "# n\treturn\n",
    "# 118372\t873211\n",
    "\n",
    "def sol(n):\n",
    "    answer =''\n",
    "    for i in sorted([int(i) for i in str(n)], reverse = True):\n",
    "        answer += str(i)\n",
    "    return int(answer)\n",
    "sol(118372)"
   ]
  },
  {
   "cell_type": "markdown",
   "metadata": {
    "id": "eMBAJw-qgqJL"
   },
   "source": [
    "## 1.12 하샤드 수\n",
    "\n",
    "양의 정수 x가 하샤드 수이려면 x의 자릿수의 합으로 x가 나누어져야 합니다. 예를 들어 18의 자릿수 합은 1+8=9이고, 18은 9로 나누어 떨어지므로 18은 하샤드 수입니다. 자연수 x를 입력받아 x가 하샤드 수인지 아닌지 검사하는 함수, solution을 완성해주세요."
   ]
  },
  {
   "cell_type": "code",
   "execution_count": null,
   "metadata": {
    "colab": {
     "base_uri": "https://localhost:8080/",
     "height": 35
    },
    "executionInfo": {
     "elapsed": 4,
     "status": "ok",
     "timestamp": 1684156462688,
     "user": {
      "displayName": "박재혁",
      "userId": "12595583987209279585"
     },
     "user_tz": -540
    },
    "id": "TeL8iMbWgpuE",
    "outputId": "a0ee6dd8-3c5b-41a2-e367-37b137102cc6"
   },
   "outputs": [
    {
     "data": {
      "application/vnd.google.colaboratory.intrinsic+json": {
       "type": "string"
      },
      "text/plain": [
       "'false'"
      ]
     },
     "execution_count": 66,
     "metadata": {},
     "output_type": "execute_result"
    }
   ],
   "source": [
    "# x\treturn\n",
    "# 10\ttrue\n",
    "# 12\ttrue\n",
    "# 11\tfalse\n",
    "# 13\tfalse\n",
    "\n",
    "def sol(x):\n",
    "    str_x = str(x)\n",
    "    list_int_x = [int(i) for i in str_x ]\n",
    "    if x % sum(list_x) == 0:\n",
    "        return 'true'\n",
    "    else:\n",
    "        return 'false'\n",
    "sol(13)\n"
   ]
  },
  {
   "cell_type": "markdown",
   "metadata": {
    "id": "g3wyEGoijEti"
   },
   "source": [
    "## 1.13 두 정수 사이의 합\n",
    "\n",
    "두 정수 a, b가 주어졌을 때 a와 b 사이에 속한 모든 정수의 합을 리턴하는 함수, solution을 완성하세요.\n",
    "예를 들어 a = 3, b = 5인 경우, 3 + 4 + 5 = 12이므로 12를 리턴합니다."
   ]
  },
  {
   "cell_type": "code",
   "execution_count": null,
   "metadata": {
    "colab": {
     "base_uri": "https://localhost:8080/"
    },
    "executionInfo": {
     "elapsed": 5,
     "status": "ok",
     "timestamp": 1684156680812,
     "user": {
      "displayName": "박재혁",
      "userId": "12595583987209279585"
     },
     "user_tz": -540
    },
    "id": "g7b9SN-zjAkq",
    "outputId": "e21c5bd1-b877-4936-df03-c15e6321e33b"
   },
   "outputs": [
    {
     "data": {
      "text/plain": [
       "12"
      ]
     },
     "execution_count": 71,
     "metadata": {},
     "output_type": "execute_result"
    }
   ],
   "source": [
    "# a\tb\treturn\n",
    "# 3\t5\t12\n",
    "# 3\t3\t3\n",
    "# 5\t3\t12\n",
    "\n",
    "def sol(a, b):\n",
    "    list_num = [i for i in range(min(a, b), max(a, b)+1)]\n",
    "    return sum(list_num)\n",
    "sol(5, 3)"
   ]
  },
  {
   "cell_type": "markdown",
   "metadata": {
    "id": "-ennsonYj6Jm"
   },
   "source": [
    "## 1.14 콜라츠 추측\n",
    "\n",
    "1937년 Collatz란 사람에 의해 제기된 이 추측은, 주어진 수가 1이 될 때까지 다음 작업을 반복하면, 모든 수를 1로 만들 수 있다는 추측입니다. 작업은 다음과 같습니다.\n",
    "\n",
    "* 1-1. 입력된 수가 짝수라면 2로 나눕니다. \n",
    "* 1-2. 입력된 수가 홀수라면 3을 곱하고 1을 더합니다. \n",
    "* 2. 결과로 나온 수에 같은 작업을 1이 될 때까지 반복합니다.\n",
    "\n",
    "예를 들어, 주어진 수가 6이라면 6 → 3 → 10 → 5 → 16 → 8 → 4 → 2 → 1 이 되어 총 8번 만에 1이 됩니다. 위 작업을 몇 번이나 반복해야 하는지 반환하는 함수, solution을 완성해 주세요. 단, 주어진 수가 1인 경우에는 0을, 작업을 500번 반복할 때까지 1이 되지 않는다면 –1을 반환해 주세요."
   ]
  },
  {
   "cell_type": "code",
   "execution_count": null,
   "metadata": {
    "colab": {
     "base_uri": "https://localhost:8080/"
    },
    "executionInfo": {
     "elapsed": 3,
     "status": "ok",
     "timestamp": 1684157132929,
     "user": {
      "displayName": "박재혁",
      "userId": "12595583987209279585"
     },
     "user_tz": -540
    },
    "id": "H1iX7sqxjnhB",
    "outputId": "4e3d5b93-7e2d-4b9a-8ae5-96bafaf916db"
   },
   "outputs": [
    {
     "data": {
      "text/plain": [
       "8"
      ]
     },
     "execution_count": 76,
     "metadata": {},
     "output_type": "execute_result"
    }
   ],
   "source": [
    "# n\tresult\n",
    "# 6\t    8\n",
    "# 16\t4\n",
    "# 626331\t-1\n",
    "\n",
    "def sol(n):\n",
    "    count = 0\n",
    "    while n > 1:\n",
    "        count += 1\n",
    "        if count == 501:\n",
    "            return -1\n",
    "            break\n",
    "        elif n % 2 == 0:\n",
    "            n /= 2\n",
    "        else:\n",
    "            n = n*3 + 1\n",
    "    return count\n",
    "sol(6)\n"
   ]
  },
  {
   "cell_type": "markdown",
   "metadata": {
    "id": "eRCnPsOvlqqr"
   },
   "source": [
    "## 1.15 서울에서 김서방 찾기\n",
    "\n",
    "String형 배열 seoul의 element중 \"Kim\"의 위치 x를 찾아, \"김서방은 x에 있다\"는 String을 반환하는 함수, solution을 완성하세요. seoul에 \"Kim\"은 오직 한 번만 나타나며 잘못된 값이 입력되는 경우는 없습니다."
   ]
  },
  {
   "cell_type": "code",
   "execution_count": null,
   "metadata": {
    "colab": {
     "base_uri": "https://localhost:8080/",
     "height": 35
    },
    "executionInfo": {
     "elapsed": 261,
     "status": "ok",
     "timestamp": 1684157387186,
     "user": {
      "displayName": "박재혁",
      "userId": "12595583987209279585"
     },
     "user_tz": -540
    },
    "id": "jVJKwxA5jysV",
    "outputId": "4e8235a9-4f9e-4db8-9486-9322595a0202"
   },
   "outputs": [
    {
     "data": {
      "application/vnd.google.colaboratory.intrinsic+json": {
       "type": "string"
      },
      "text/plain": [
       "'김서방은 1에 있다'"
      ]
     },
     "execution_count": 82,
     "metadata": {},
     "output_type": "execute_result"
    }
   ],
   "source": [
    "# seoul\t            return\n",
    "# [\"Jane\", \"Kim\"]\t\"김서방은 1에 있다\"\n",
    "\n",
    "def sol(seoul):\n",
    "    index_kim = seoul.index('Kim')\n",
    "    return f'김서방은 {index_kim}에 있다'\n",
    "sol([\"Jane\", \"Kim\"])"
   ]
  },
  {
   "cell_type": "markdown",
   "metadata": {
    "id": "9H5qp6hqmnnQ"
   },
   "source": [
    "## 1.16 나누어 떨어지는 숫자 배열\n",
    "\n",
    "array의 각 element 중 divisor로 나누어 떨어지는 값을 오름차순으로 정렬한 배열을 반환하는 함수, solution을 작성해주세요.\n",
    "divisor로 나누어 떨어지는 element가 하나도 없다면 배열에 -1을 담아 반환하세요.\n",
    "\n",
    "[제한 사항]\n",
    "\n",
    "* arr은 자연수를 담은 배열입니다.\n",
    "* 정수 i, j에 대해 i ≠ j 이면 arr[i] ≠ arr[j] 입니다.\n",
    "* divisor는 자연수입니다.\n",
    "* array는 길이 1 이상인 배열입니다."
   ]
  },
  {
   "cell_type": "code",
   "execution_count": null,
   "metadata": {
    "colab": {
     "base_uri": "https://localhost:8080/"
    },
    "executionInfo": {
     "elapsed": 252,
     "status": "ok",
     "timestamp": 1684157651158,
     "user": {
      "displayName": "박재혁",
      "userId": "12595583987209279585"
     },
     "user_tz": -540
    },
    "id": "Q2lkYWb2mFtQ",
    "outputId": "8902fd56-6cdb-4071-bb38-0f0dec8e01bf"
   },
   "outputs": [
    {
     "data": {
      "text/plain": [
       "-1"
      ]
     },
     "execution_count": 88,
     "metadata": {},
     "output_type": "execute_result"
    }
   ],
   "source": [
    "# arr\t    divisor return\n",
    "# [5, 9, 7, 10]\t5\t[5, 10]\n",
    "# [2, 36, 1, 3]\t1\t[1, 2, 3, 36]\n",
    "# [3,2,6]\t    10\t[-1]\n",
    "\n",
    "def sol(arr, divisor):\n",
    "    answer = sorted([i for i in arr if i % divisor == 0])\n",
    "    if answer == []:\n",
    "        return -1\n",
    "    return answer"
   ]
  },
  {
   "cell_type": "markdown",
   "metadata": {
    "id": "v-2X0I1BnnQQ"
   },
   "source": [
    "## 1.17 핸드폰 번호 가리기\n",
    "\n",
    "프로그래머스 모바일은 개인정보 보호를 위해 고지서를 보낼 때 고객들의 전화번호의 일부를 가립니다.\n",
    "전화번호가 문자열 phone_number로 주어졌을 때, 전화번호의 뒷 4자리를 제외한 나머지 숫자를 전부 *으로 가린 문자열을 리턴하는 함수, solution을 완성해주세요."
   ]
  },
  {
   "cell_type": "code",
   "execution_count": null,
   "metadata": {
    "colab": {
     "base_uri": "https://localhost:8080/",
     "height": 35
    },
    "executionInfo": {
     "elapsed": 4,
     "status": "ok",
     "timestamp": 1684158043316,
     "user": {
      "displayName": "박재혁",
      "userId": "12595583987209279585"
     },
     "user_tz": -540
    },
    "id": "F9uXoY3OnNu-",
    "outputId": "479bbb90-026d-4211-c155-8a9a6587ee76"
   },
   "outputs": [
    {
     "data": {
      "application/vnd.google.colaboratory.intrinsic+json": {
       "type": "string"
      },
      "text/plain": [
       "'*****8888'"
      ]
     },
     "execution_count": 92,
     "metadata": {},
     "output_type": "execute_result"
    }
   ],
   "source": [
    "# phone_number\treturn\n",
    "# \"01033334444\"\t\"*******4444\"\n",
    "# \"027778888\"\t\"*****8888\"\n",
    "\n",
    "def sol(phone_number):\n",
    "    answer = ''\n",
    "    for i in range( len(phone_number)):\n",
    "        if i < len(phone_number) - 4:\n",
    "            answer += '*'\n",
    "        else:\n",
    "            answer += phone_number[i]\n",
    "    return answer\n",
    "sol(\"027778888\")"
   ]
  },
  {
   "cell_type": "markdown",
   "metadata": {
    "id": "QCUHGAO8pGge"
   },
   "source": [
    "## 1.18 음양 더하기 \n",
    "\n",
    "어떤 정수들이 있습니다. 이 정수들의 절댓값을 차례대로 담은 정수 배열 absolutes와 이 정수들의 부호를 차례대로 담은 불리언 배열 signs가 매개변수로 주어집니다. 실제 정수들의 합을 구하여 return 하도록 solution 함수를 완성해주세요.\n",
    "\n"
   ]
  },
  {
   "cell_type": "code",
   "execution_count": null,
   "metadata": {
    "colab": {
     "base_uri": "https://localhost:8080/"
    },
    "executionInfo": {
     "elapsed": 255,
     "status": "ok",
     "timestamp": 1684158432645,
     "user": {
      "displayName": "박재혁",
      "userId": "12595583987209279585"
     },
     "user_tz": -540
    },
    "id": "lXFJS502osj-",
    "outputId": "175ccf58-d6ab-457e-9062-413490fa28c8"
   },
   "outputs": [
    {
     "data": {
      "text/plain": [
       "9"
      ]
     },
     "execution_count": 96,
     "metadata": {},
     "output_type": "execute_result"
    }
   ],
   "source": [
    "# absolutes\tsigns\tresult\n",
    "# [4,7,12]\t[true,false,true]\t9\n",
    "# [1,2,3]\t[false,false,true]\t0\n",
    "\n",
    "def sol(absolutes, signs):\n",
    "    answer = 0\n",
    "    for i in range(len(absolutes)):\n",
    "        if signs[i] == True:\n",
    "            answer += absolutes[i]\n",
    "        elif signs[i] == False:\n",
    "            answer -= absolutes[i]\n",
    "    return answer\n",
    "sol([4,7,12], [True, False, True])"
   ]
  },
  {
   "cell_type": "markdown",
   "metadata": {
    "id": "LINLBziuqlEn"
   },
   "source": [
    "## 1.19 없는 숫자 더하기\n",
    "\n",
    "0부터 9까지의 숫자 중 일부가 들어있는 정수 배열 numbers가 매개변수로 주어집니다. numbers에서 찾을 수 없는 0부터 9까지의 숫자를 모두 찾아 더한 수를 return 하도록 solution 함수를 완성해주세요."
   ]
  },
  {
   "cell_type": "code",
   "execution_count": null,
   "metadata": {
    "colab": {
     "base_uri": "https://localhost:8080/"
    },
    "executionInfo": {
     "elapsed": 3,
     "status": "ok",
     "timestamp": 1684158627586,
     "user": {
      "displayName": "박재혁",
      "userId": "12595583987209279585"
     },
     "user_tz": -540
    },
    "id": "eOzAi_DHqhet",
    "outputId": "2eb24b08-1906-4ea2-cbd7-cd435ba23737"
   },
   "outputs": [
    {
     "data": {
      "text/plain": [
       "14"
      ]
     },
     "execution_count": 100,
     "metadata": {},
     "output_type": "execute_result"
    }
   ],
   "source": [
    "# numbers\tresult\n",
    "# [1,2,3,4,6,7,8,0]\t14\n",
    "# [5,8,4,0,6,7,9]\t6\n",
    "\n",
    "def sol(numbers):\n",
    "    answer = [i for i in range(10) if i not in numbers]\n",
    "    return sum(answer)\n",
    "sol([5,8,4,0,6,7,9])"
   ]
  },
  {
   "cell_type": "markdown",
   "metadata": {
    "id": "ZxcEgk5OrX2e"
   },
   "source": [
    "## 1.20 제일 작은 수 제거하기\n",
    "\n",
    "정수를 저장한 배열, arr 에서 가장 작은 수를 제거한 배열을 리턴하는 함수, solution을 완성해주세요. 단, 리턴하려는 배열이 빈 배열인 경우엔 배열에 -1을 채워 리턴하세요. 예를들어 arr이 [4,3,2,1]인 경우는 [4,3,2]를 리턴 하고, [10]면 [-1]을 리턴 합니다.\n",
    "\n"
   ]
  },
  {
   "cell_type": "code",
   "execution_count": null,
   "metadata": {
    "colab": {
     "base_uri": "https://localhost:8080/"
    },
    "executionInfo": {
     "elapsed": 3,
     "status": "ok",
     "timestamp": 1684158925419,
     "user": {
      "displayName": "박재혁",
      "userId": "12595583987209279585"
     },
     "user_tz": -540
    },
    "id": "ajkYnJMGrHhs",
    "outputId": "e6df4895-0b1f-4419-d3cc-4e930d0342b8"
   },
   "outputs": [
    {
     "data": {
      "text/plain": [
       "-1"
      ]
     },
     "execution_count": 108,
     "metadata": {},
     "output_type": "execute_result"
    }
   ],
   "source": [
    "# arr\t     return\n",
    "# [4,3,2,1]\t[4,3,2]\n",
    "# [10]\t    [-1]\n",
    "\n",
    "def sol(arr):\n",
    "    arr.remove(min(arr))\n",
    "    if arr == []:\n",
    "        return -1\n",
    "    return arr\n",
    "sol([10])"
   ]
  },
  {
   "cell_type": "markdown",
   "metadata": {
    "id": "aEW6-xhvKGM6"
   },
   "source": [
    "## 1.21 가운데 글자 가져오기\n",
    "\n",
    "단어 s의 가운데 글자를 반환하는 함수, solution을 만들어 보세요. 단어의 길이가 짝수라면 가운데 두글자를 반환하면 됩니다"
   ]
  },
  {
   "cell_type": "code",
   "execution_count": null,
   "metadata": {
    "colab": {
     "base_uri": "https://localhost:8080/",
     "height": 35
    },
    "executionInfo": {
     "elapsed": 3,
     "status": "ok",
     "timestamp": 1684201549337,
     "user": {
      "displayName": "박재혁",
      "userId": "12595583987209279585"
     },
     "user_tz": -540
    },
    "id": "i6fVrP1jrO71",
    "outputId": "5f263490-0cb0-4e35-e55a-a20eaac0649f"
   },
   "outputs": [
    {
     "data": {
      "application/vnd.google.colaboratory.intrinsic+json": {
       "type": "string"
      },
      "text/plain": [
       "'we'"
      ]
     },
     "execution_count": 9,
     "metadata": {},
     "output_type": "execute_result"
    }
   ],
   "source": [
    "# s \treturn\n",
    "# \"abcde\"\t\"c\"\n",
    "# \"qwer\"\t\"we\"\n",
    " \n",
    "def sol(s):\n",
    "    if len(s) % 2 == 0:\n",
    "        return s[int(len(s)/2)-1]+s[int(len(s)/2)]\n",
    "    else:\n",
    "        return s[int(len(s)/2)]\n",
    "sol('abcde')\n",
    "sol('qwer')"
   ]
  },
  {
   "cell_type": "markdown",
   "metadata": {
    "id": "BfA6EsU9PJ28"
   },
   "source": [
    "## 1.22 수박수박수박수박수박수?\n",
    "\n",
    "길이가 n이고, \"수박수박수박수....\"와 같은 패턴을 유지하는 문자열을 리턴하는 함수, solution을 완성하세요. 예를들어 n이 4이면 \"수박수박\"을 리턴하고 3이라면 \"수박수\"를 리턴하면 됩니다."
   ]
  },
  {
   "cell_type": "code",
   "execution_count": null,
   "metadata": {
    "colab": {
     "base_uri": "https://localhost:8080/",
     "height": 35
    },
    "executionInfo": {
     "elapsed": 3,
     "status": "ok",
     "timestamp": 1684201768616,
     "user": {
      "displayName": "박재혁",
      "userId": "12595583987209279585"
     },
     "user_tz": -540
    },
    "id": "H6Z1kOqcsRe4",
    "outputId": "a2f2fd70-b733-4aaf-81f7-3adbc77a6390"
   },
   "outputs": [
    {
     "data": {
      "application/vnd.google.colaboratory.intrinsic+json": {
       "type": "string"
      },
      "text/plain": [
       "'수박수박'"
      ]
     },
     "execution_count": 13,
     "metadata": {},
     "output_type": "execute_result"
    }
   ],
   "source": [
    "# n\treturn\n",
    "# 3\t\"수박수\"\n",
    "# 4\t\"수박수박\"\n",
    "\n",
    "\n",
    "def sol(n):\n",
    "    answer = ''\n",
    "    for i in range(n):\n",
    "        if i % 2 == 0:\n",
    "            answer += '수'\n",
    "        else:\n",
    "            answer += '박'\n",
    "    return answer\n",
    "sol(4)"
   ]
  },
  {
   "cell_type": "code",
   "execution_count": null,
   "metadata": {
    "id": "dUsrXktpSLeI"
   },
   "outputs": [],
   "source": [
    "def solution(n):\n",
    "    return \"수박\" * (n // 2) + \"수\" * (n % 2)\n",
    "\n",
    "print(solution(4))"
   ]
  },
  {
   "cell_type": "markdown",
   "metadata": {
    "id": "zsTlqu5mSMdy"
   },
   "source": [
    "## 1.23 내적\n",
    "\n",
    "길이가 같은 두 1차원 정수 배열 a, b가 매개변수로 주어집니다. a와 b의 내적을 return 하도록 solution 함수를 완성해주세요.\n",
    "\n",
    "이때, a와 b의 내적은 a[0]*b[0] + a[1]*b[1] + ... + a[n-1]*b[n-1] 입니다. (n은 a, b의 길이)"
   ]
  },
  {
   "cell_type": "code",
   "execution_count": null,
   "metadata": {
    "colab": {
     "base_uri": "https://localhost:8080/"
    },
    "executionInfo": {
     "elapsed": 284,
     "status": "ok",
     "timestamp": 1684202593456,
     "user": {
      "displayName": "박재혁",
      "userId": "12595583987209279585"
     },
     "user_tz": -540
    },
    "id": "DFgoNQQUSLa2",
    "outputId": "8d2454a5-f441-4058-8a33-6d73a47740b1"
   },
   "outputs": [
    {
     "data": {
      "text/plain": [
       "3"
      ]
     },
     "execution_count": 14,
     "metadata": {},
     "output_type": "execute_result"
    }
   ],
   "source": [
    "# a\t               b\tresult\n",
    "# [1,2,3,4]\t[-3,-1,0,2]\t3\n",
    "# [-1,0,1]\t[1,0,-1]\t-2\n",
    "\n",
    "def sol(a, b):\n",
    "    answer = 0\n",
    "    for i in range(len(a)):\n",
    "        answer += a[i]*b[i]\n",
    "    return answer \n",
    "sol([1,2,3,4], [-3,-1,0,2])\n"
   ]
  },
  {
   "cell_type": "code",
   "execution_count": null,
   "metadata": {
    "colab": {
     "base_uri": "https://localhost:8080/"
    },
    "executionInfo": {
     "elapsed": 290,
     "status": "ok",
     "timestamp": 1684203069982,
     "user": {
      "displayName": "박재혁",
      "userId": "12595583987209279585"
     },
     "user_tz": -540
    },
    "id": "Gxc3962dPoM9",
    "outputId": "355db604-0e00-4adf-861b-fdeb56433e77"
   },
   "outputs": [
    {
     "data": {
      "text/plain": [
       "-2"
      ]
     },
     "execution_count": 16,
     "metadata": {},
     "output_type": "execute_result"
    }
   ],
   "source": [
    "def sol(a, b):\n",
    "    return sum([a[i]*b[i] for i in range(len(a))])\n",
    "sol([-1,0,1], [1,0,-1])\n"
   ]
  },
  {
   "cell_type": "markdown",
   "metadata": {
    "id": "uEJBrusUU41z"
   },
   "source": [
    "## 1.24 문자열 내림차순으로 배치하기\n",
    "\n",
    "문자열 s에 나타나는 문자를 큰것부터 작은 순으로 정렬해 새로운 문자열을 리턴하는 함수, solution을 완성해주세요.\n",
    "s는 영문 대소문자로만 구성되어 있으며, 대문자는 소문자보다 작은 것으로 간주합니다."
   ]
  },
  {
   "cell_type": "code",
   "execution_count": null,
   "metadata": {
    "colab": {
     "base_uri": "https://localhost:8080/",
     "height": 35
    },
    "executionInfo": {
     "elapsed": 4,
     "status": "ok",
     "timestamp": 1684203311306,
     "user": {
      "displayName": "박재혁",
      "userId": "12595583987209279585"
     },
     "user_tz": -540
    },
    "id": "yBQ_eWadPqij",
    "outputId": "03fac2fd-d69f-4d4c-87c5-aa18a6c4c415"
   },
   "outputs": [
    {
     "data": {
      "application/vnd.google.colaboratory.intrinsic+json": {
       "type": "string"
      },
      "text/plain": [
       "'gfedcbZ'"
      ]
     },
     "execution_count": 22,
     "metadata": {},
     "output_type": "execute_result"
    }
   ],
   "source": [
    "# s\treturn\n",
    "# \"Zbcdefg\"\t\"gfedcbZ\"\n",
    "\n",
    "def sol(s):\n",
    "    return ''.join(sorted(s, reverse = True))\n",
    "\n",
    "sol('Zbcdefg')"
   ]
  },
  {
   "cell_type": "markdown",
   "metadata": {
    "id": "pqkdEmQOVzTh"
   },
   "source": [
    "## 1.25 약수의 개수와 덧셈\n",
    "\n",
    "두 정수 left와 right가 매개변수로 주어집니다. left부터 right까지의 모든 수들 중에서, 약수의 개수가 짝수인 수는 더하고, 약수의 개수가 홀수인 수는 뺀 수를 return 하도록 solution 함수를 완성해주세요."
   ]
  },
  {
   "cell_type": "code",
   "execution_count": null,
   "metadata": {
    "colab": {
     "base_uri": "https://localhost:8080/"
    },
    "executionInfo": {
     "elapsed": 3,
     "status": "ok",
     "timestamp": 1684223101970,
     "user": {
      "displayName": "박재혁",
      "userId": "12595583987209279585"
     },
     "user_tz": -540
    },
    "id": "IPQPzAWIVMa8",
    "outputId": "a2297b6f-adc6-4a14-bee1-cf86212d258f"
   },
   "outputs": [
    {
     "data": {
      "text/plain": [
       "52"
      ]
     },
     "execution_count": 5,
     "metadata": {},
     "output_type": "execute_result"
    }
   ],
   "source": [
    "# left\tright\tresult\n",
    "# 13\t17\t43\n",
    "# 24\t27\t52\n",
    "\n",
    "def sol(left, right):\n",
    "    answer = 0\n",
    "    for i in range(left, right + 1):\n",
    "        new_list = []\n",
    "        count = 0\n",
    "        for j in range(1, i + 1):\n",
    "            if i % j == 0:\n",
    "                new_list.append(j)\n",
    "        count = len(new_list)\n",
    "        if count % 2 == 0:\n",
    "            answer += i\n",
    "        else:\n",
    "            answer -= i\n",
    "    return answer\n",
    "sol(24, 27)\n"
   ]
  },
  {
   "cell_type": "markdown",
   "metadata": {
    "id": "KVQxLjXwhSs2"
   },
   "source": [
    "## 1.26 부족한 금액 계산하기\n",
    "\n",
    "새로 생긴 놀이기구는 인기가 매우 많아 줄이 끊이질 않습니다. 이 놀이기구의 원래 이용료는 price원 인데, 놀이기구를 N 번 째 이용한다면 원래 이용료의 N배를 받기로 하였습니다. 즉, 처음 이용료가 100이었다면 2번째에는 200, 3번째에는 300으로 요금이 인상됩니다.\n",
    "놀이기구를 count번 타게 되면 현재 자신이 가지고 있는 금액에서 얼마가 모자라는지를 return 하도록 solution 함수를 완성하세요.\n",
    "단, 금액이 부족하지 않으면 0을 return 하세요."
   ]
  },
  {
   "cell_type": "code",
   "execution_count": null,
   "metadata": {
    "colab": {
     "base_uri": "https://localhost:8080/"
    },
    "executionInfo": {
     "elapsed": 905,
     "status": "ok",
     "timestamp": 1684225151832,
     "user": {
      "displayName": "박재혁",
      "userId": "12595583987209279585"
     },
     "user_tz": -540
    },
    "id": "c_GyBBd-VfVa",
    "outputId": "d22e365a-a3d3-4943-f3b9-27828e1ccbe9"
   },
   "outputs": [
    {
     "data": {
      "text/plain": [
       "10"
      ]
     },
     "execution_count": 14,
     "metadata": {},
     "output_type": "execute_result"
    }
   ],
   "source": [
    "# price\tmoney\tcount\tresult\n",
    "# 3\t      20\t4\t    10\n",
    "\n",
    "def sol(price, money, count):\n",
    "    for i in range(1,count+1):        \n",
    "        money = money - price*i\n",
    "    answer = lambda x: -x if x < 0 else x \n",
    "    return answer(money)\n",
    "    # if money < 0:\n",
    "    #     return -money\n",
    "    # elif money == 0:\n",
    "    #     return money\n",
    "    \n",
    " \n",
    "\n",
    "sol(3, 20, 4)"
   ]
  },
  {
   "cell_type": "markdown",
   "metadata": {
    "id": "VJL2pg-UpHxp"
   },
   "source": [
    "## 1.27 문자열 다루기 기본\n",
    "\n",
    "문자열 s의 길이가 4 혹은 6이고, 숫자로만 구성돼있는지 확인해주는 함수, solution을 완성하세요. 예를 들어 s가 \"a234\"이면 False를 리턴하고 \"1234\"라면 True를 리턴하면 됩니다."
   ]
  },
  {
   "cell_type": "code",
   "execution_count": null,
   "metadata": {
    "colab": {
     "base_uri": "https://localhost:8080/",
     "height": 35
    },
    "executionInfo": {
     "elapsed": 3,
     "status": "ok",
     "timestamp": 1684225568606,
     "user": {
      "displayName": "박재혁",
      "userId": "12595583987209279585"
     },
     "user_tz": -540
    },
    "id": "XLX0iK__g7q8",
    "outputId": "498f802e-27b8-4995-affe-d5a68a5ff424"
   },
   "outputs": [
    {
     "data": {
      "application/vnd.google.colaboratory.intrinsic+json": {
       "type": "string"
      },
      "text/plain": [
       "'true'"
      ]
     },
     "execution_count": 18,
     "metadata": {},
     "output_type": "execute_result"
    }
   ],
   "source": [
    "# s\t        return\n",
    "# \"a234\"\tfalse\n",
    "# \"1234\"\ttrue\n",
    "\n",
    "def sol(s):\n",
    "    answer = [i for i in s if i.isdigit()==True]\n",
    "    if len(answer) == 4 or len(answer) == 6:\n",
    "        return 'true'\n",
    "    else:\n",
    "        return 'false'\n",
    "sol(\"1234\")"
   ]
  },
  {
   "cell_type": "markdown",
   "metadata": {
    "id": "ACM_80YRqy_g"
   },
   "source": [
    "## 1.28 행렬의 덧셈\n",
    "\n",
    "행렬의 덧셈은 행과 열의 크기가 같은 두 행렬의 같은 행, 같은 열의 값을 서로 더한 결과가 됩니다. 2개의 행렬 arr1과 arr2를 입력받아, 행렬 덧셈의 결과를 반환하는 함수, solution을 완성해주세요."
   ]
  },
  {
   "cell_type": "code",
   "execution_count": null,
   "metadata": {
    "colab": {
     "base_uri": "https://localhost:8080/"
    },
    "executionInfo": {
     "elapsed": 4,
     "status": "ok",
     "timestamp": 1684226445874,
     "user": {
      "displayName": "박재혁",
      "userId": "12595583987209279585"
     },
     "user_tz": -540
    },
    "id": "2QkPm5Vzoknq",
    "outputId": "f260ca22-5fa5-40bd-f27d-fd61a645a20e"
   },
   "outputs": [
    {
     "data": {
      "text/plain": [
       "[[4, 6], [7, 9]]"
      ]
     },
     "execution_count": 23,
     "metadata": {},
     "output_type": "execute_result"
    }
   ],
   "source": [
    "# arr1\t        arr2\t        return\n",
    "# [[1,2],[2,3]]\t[[3,4],[5,6]]\t[[4,6],[7,9]]\n",
    "# [[1],[2]]\t    [[3],[4]]\t    [[4],[6]]\n",
    "\n",
    "def sol(arr1, arr2):\n",
    "\n",
    "    rows = len(arr1)\n",
    "    cols = len(arr1[0])\n",
    "    mat = [[0] * cols for i in range(rows)]\n",
    "    \n",
    "    for i in range(rows):\n",
    "        for j in range(cols):\n",
    "            mat[i][j] = arr1[i][j] + arr2[i][j]\n",
    "    return mat\n",
    "sol([[1,2],[2,3]],[[3,4],[5,6]])"
   ]
  },
  {
   "cell_type": "markdown",
   "metadata": {
    "id": "BZupGE83uUM_"
   },
   "source": [
    "## 1.29 직사각형 별찍기\n",
    "\n",
    "이 문제에는 표준 입력으로 두 개의 정수 n과 m이 주어집니다.\n",
    "별(*) 문자를 이용해 가로의 길이가 n, 세로의 길이가 m인 직사각형 형태를 출력해보세요."
   ]
  },
  {
   "cell_type": "code",
   "execution_count": null,
   "metadata": {
    "colab": {
     "base_uri": "https://localhost:8080/"
    },
    "executionInfo": {
     "elapsed": 4,
     "status": "ok",
     "timestamp": 1684226627331,
     "user": {
      "displayName": "박재혁",
      "userId": "12595583987209279585"
     },
     "user_tz": -540
    },
    "id": "vSu55uuqpmuz",
    "outputId": "5492aa8e-9fa4-41ba-8fc7-3464ca438718"
   },
   "outputs": [
    {
     "name": "stdout",
     "output_type": "stream",
     "text": [
      "*****\n",
      "*****\n",
      "*****\n"
     ]
    }
   ],
   "source": [
    "# 5 3\n",
    "# *****\n",
    "# *****\n",
    "# *****\n",
    "\n",
    "def sol(n, m):\n",
    "    for i in range(m):\n",
    "        print('*'*n)\n",
    "\n",
    "sol(5, 3)"
   ]
  },
  {
   "cell_type": "markdown",
   "metadata": {
    "id": "4LYn61p0u1QU"
   },
   "source": [
    "## 1.30 최대공약수와 최소공배수\n",
    "\n",
    "두 수를 입력받아 두 수의 최대공약수와 최소공배수를 반환하는 함수, solution을 완성해 보세요. 배열의 맨 앞에 최대공약수, 그다음 최소공배수를 넣어 반환하면 됩니다. 예를 들어 두 수 3, 12의 최대공약수는 3, 최소공배수는 12이므로 solution(3, 12)는 [3, 12]를 반환해야 합니다."
   ]
  },
  {
   "cell_type": "code",
   "execution_count": 9,
   "metadata": {
    "colab": {
     "base_uri": "https://localhost:8080/"
    },
    "executionInfo": {
     "elapsed": 295,
     "status": "ok",
     "timestamp": 1684241668694,
     "user": {
      "displayName": "박재혁",
      "userId": "12595583987209279585"
     },
     "user_tz": -540
    },
    "id": "QuyM5_Yppm0V",
    "outputId": "cd4c794f-e16f-4181-9d25-39a0c3b09f4b"
   },
   "outputs": [
    {
     "data": {
      "text/plain": [
       "[3, 12]"
      ]
     },
     "execution_count": 9,
     "metadata": {},
     "output_type": "execute_result"
    }
   ],
   "source": [
    "# n\tm\treturn\n",
    "# 3\t12\t[3, 12]\n",
    "# 2\t5\t[1, 10]\n",
    "\n",
    "def sol(n, m):\n",
    "    # Grestest common divisor\n",
    "    gcd = 1\n",
    "\n",
    "    for i in range(1, min(n, m) + 1):\n",
    "        if n % i == 0 and m % i == 0:\n",
    "            gcd = i\n",
    "    # least common multiple\n",
    "    lcm = (m * n)/gcd\n",
    "    return [gcd, int(lcm)]\n",
    "    \n",
    "sol(3, 12)\n",
    "\n",
    "\n"
   ]
  },
  {
   "cell_type": "markdown",
   "metadata": {
    "id": "d5WegwFOoU-i"
   },
   "source": [
    "## 1.31 같은 숫자는 싫어 (**)\n",
    "\n",
    "배열 arr가 주어집니다. 배열 arr의 각 원소는 숫자 0부터 9까지로 이루어져 있습니다. 이때, 배열 arr에서 연속적으로 나타나는 숫자는 하나만 남기고 전부 제거하려고 합니다. 단, 제거된 후 남은 수들을 반환할 때는 배열 arr의 원소들의 순서를 유지해야 합니다. 예를 들면,\n",
    "\n",
    "arr = [1, 1, 3, 3, 0, 1, 1] 이면 [1, 3, 0, 1] 을 return 합니다.\n",
    "arr = [4, 4, 4, 3, 3] 이면 [4, 3] 을 return 합니다.\n",
    "배열 arr에서 연속적으로 나타나는 숫자는 제거하고 남은 수들을 return 하는 solution 함수를 완성해 주세요.\n",
    "\n"
   ]
  },
  {
   "cell_type": "code",
   "execution_count": 18,
   "metadata": {
    "colab": {
     "base_uri": "https://localhost:8080/"
    },
    "executionInfo": {
     "elapsed": 3,
     "status": "ok",
     "timestamp": 1684250747194,
     "user": {
      "displayName": "박재혁",
      "userId": "12595583987209279585"
     },
     "user_tz": -540
    },
    "id": "rspD_A6Zip0H",
    "outputId": "693039a7-037f-49a4-939d-5339d8dc6ef5"
   },
   "outputs": [
    {
     "data": {
      "text/plain": [
       "[4, 3]"
      ]
     },
     "execution_count": 18,
     "metadata": {},
     "output_type": "execute_result"
    }
   ],
   "source": [
    "# arr\tanswer\n",
    "# [1,1,3,3,0,1,1]\t[1,3,0,1]\n",
    "# [4,4,4,3,3]\t[4,3]\n",
    "\n",
    "\n",
    "def sol(arr):\n",
    "    answer = []\n",
    "    for i in arr:\n",
    "        if not answer or answer[-1] != i:\n",
    "            answer.append(i)\n",
    "    return answer \n",
    "sol([4,4,4,3,3])\n"
   ]
  },
  {
   "cell_type": "markdown",
   "metadata": {
    "id": "YJ6j3NepGlBc"
   },
   "source": [
    "## 1.32 3진법 뒤집기 (**)\n",
    "\n",
    "자연수 n이 매개변수로 주어집니다. n을 3진법 상에서 앞뒤로 뒤집은 후, 이를 다시 10진법으로 표현한 수를 return 하도록 solution 함수를 완성해주세요."
   ]
  },
  {
   "cell_type": "code",
   "execution_count": 14,
   "metadata": {
    "colab": {
     "base_uri": "https://localhost:8080/"
    },
    "executionInfo": {
     "elapsed": 601,
     "status": "ok",
     "timestamp": 1684249897689,
     "user": {
      "displayName": "박재혁",
      "userId": "12595583987209279585"
     },
     "user_tz": -540
    },
    "id": "-mMJe8c2oipB",
    "outputId": "70a29e76-9b27-43a8-98e3-b341df818864"
   },
   "outputs": [
    {
     "name": "stdout",
     "output_type": "stream",
     "text": [
      "37\n"
     ]
    }
   ],
   "source": [
    "# n (10진법)\tn (3진법)\t앞뒤 반전(3진법)\t10진법으로 표현\n",
    "# 45\t        1200\t    0021\t       7\n",
    "\n",
    "def sol(n):\n",
    "    ternary = ''\n",
    "    while n > 0:\n",
    "        remainder "
   ]
  },
  {
   "cell_type": "markdown",
   "metadata": {
    "id": "bnbU4i4fLR_J"
   },
   "source": [
    "## 1.33 이상한 문자 만들기\n",
    "\n",
    "문자열 s는 한 개 이상의 단어로 구성되어 있습니다. 각 단어는 하나 이상의 공백문자로 구분되어 있습니다. 각 단어의 짝수번째 알파벳은 대문자로, 홀수번째 알파벳은 소문자로 바꾼 문자열을 리턴하는 함수, solution을 완성하세요."
   ]
  },
  {
   "cell_type": "code",
   "execution_count": 22,
   "metadata": {
    "colab": {
     "base_uri": "https://localhost:8080/",
     "height": 35
    },
    "executionInfo": {
     "elapsed": 254,
     "status": "ok",
     "timestamp": 1684251220734,
     "user": {
      "displayName": "박재혁",
      "userId": "12595583987209279585"
     },
     "user_tz": -540
    },
    "id": "GHrAfxncHVpQ",
    "outputId": "9e57e535-d318-4e78-e5f4-76f6dc0468fe"
   },
   "outputs": [
    {
     "data": {
      "application/vnd.google.colaboratory.intrinsic+json": {
       "type": "string"
      },
      "text/plain": [
       "'TrY HeLlO WoRlD'"
      ]
     },
     "execution_count": 22,
     "metadata": {},
     "output_type": "execute_result"
    }
   ],
   "source": [
    "# s\t                    return\n",
    "# \"try hello world\"\t\"TrY HeLlO WoRlD\"\n",
    "\n",
    "def sol(s):\n",
    "    answer = ''\n",
    "    for i in range(len(s)):\n",
    "        if i == ' ':\n",
    "            continue\n",
    "        elif i % 2 == 0:\n",
    "            answer += s[i].upper()\n",
    "        else:\n",
    "            answer += s[i].lower()\n",
    "    return answer\n",
    "sol(\"try hello world\")\n"
   ]
  },
  {
   "cell_type": "code",
   "execution_count": 25,
   "metadata": {
    "colab": {
     "base_uri": "https://localhost:8080/",
     "height": 35
    },
    "executionInfo": {
     "elapsed": 644,
     "status": "ok",
     "timestamp": 1684251353742,
     "user": {
      "displayName": "박재혁",
      "userId": "12595583987209279585"
     },
     "user_tz": -540
    },
    "id": "Vw_NtLWiNA9a",
    "outputId": "df3124ad-d17a-4858-b8d7-ccdcf3e1b55e"
   },
   "outputs": [
    {
     "data": {
      "application/vnd.google.colaboratory.intrinsic+json": {
       "type": "string"
      },
      "text/plain": [
       "'TrY HeLlO WoRlD'"
      ]
     },
     "execution_count": 25,
     "metadata": {},
     "output_type": "execute_result"
    }
   ],
   "source": [
    "def sol(s):\n",
    "    answer = ''.join([x.upper() if i % 2 == 0 else x.lower() for i, x in enumerate(s)])\n",
    "    return answer\n",
    "sol(\"try hello world\")\n"
   ]
  },
  {
   "cell_type": "markdown",
   "metadata": {
    "id": "fjmHTSyTNRby"
   },
   "source": [
    "## 1.34 예산\n",
    "\n",
    "S사에서는 각 부서에 필요한 물품을 지원해 주기 위해 부서별로 물품을 구매하는데 필요한 금액을 조사했습니다. 그러나, 전체 예산이 정해져 있기 때문에 모든 부서의 물품을 구매해 줄 수는 없습니다. 그래서 최대한 많은 부서의 물품을 구매해 줄 수 있도록 하려고 합니다.\n",
    "\n",
    "물품을 구매해 줄 때는 각 부서가 신청한 금액만큼을 모두 지원해 줘야 합니다. 예를 들어 1,000원을 신청한 부서에는 정확히 1,000원을 지원해야 하며, 1,000원보다 적은 금액을 지원해 줄 수는 없습니다.\n",
    "\n",
    "부서별로 신청한 금액이 들어있는 배열 d와 예산 budget이 매개변수로 주어질 때, 최대 몇 개의 부서에 물품을 지원할 수 있는지 return 하도록 solution 함수를 완성해주세요.\n",
    "\n",
    "\n"
   ]
  },
  {
   "cell_type": "code",
   "execution_count": 3,
   "metadata": {
    "id": "9FjWOuasNB1h"
   },
   "outputs": [
    {
     "data": {
      "text/plain": [
       "4"
      ]
     },
     "execution_count": 3,
     "metadata": {},
     "output_type": "execute_result"
    }
   ],
   "source": [
    "# d\t          budget\tresult\n",
    "# [1,3,2,5,4]\t9\t 3\n",
    "# [2,2,3,3]\t   10\t 4\n",
    "\n",
    "def sol(d, budget):\n",
    "    count = 0\n",
    "    for i in sorted(d):\n",
    "        if budget >= i:\n",
    "            budget -= i\n",
    "            count += 1\n",
    "        else:\n",
    "            break\n",
    "    return count\n",
    "sol([2, 2, 3, 3], 10)"
   ]
  },
  {
   "cell_type": "markdown",
   "metadata": {},
   "source": [
    "## 1.35 삼총사\n",
    "\n",
    "한국중학교에 다니는 학생들은 각자 정수 번호를 갖고 있습니다. 이 학교 학생 3명의 정수 번호를 더했을 때 0이 되면 3명의 학생은 삼총사라고 합니다. 예를 들어, 5명의 학생이 있고, 각각의 정수 번호가 순서대로 -2, 3, 0, 2, -5일 때, 첫 번째, 세 번째, 네 번째 학생의 정수 번호를 더하면 0이므로 세 학생은 삼총사입니다. 또한, 두 번째, 네 번째, 다섯 번째 학생의 정수 번호를 더해도 0이므로 세 학생도 삼총사입니다. 따라서 이 경우 한국중학교에서는 두 가지 방법으로 삼총사를 만들 수 있습니다.\n",
    "\n",
    "한국중학교 학생들의 번호를 나타내는 정수 배열 number가 매개변수로 주어질 때, 학생들 중 삼총사를 만들 수 있는 방법의 수를 return 하도록 solution 함수를 완성하세요."
   ]
  },
  {
   "cell_type": "code",
   "execution_count": 6,
   "metadata": {},
   "outputs": [
    {
     "data": {
      "text/plain": [
       "2"
      ]
     },
     "execution_count": 6,
     "metadata": {},
     "output_type": "execute_result"
    }
   ],
   "source": [
    "# number\tresult\n",
    "# [-2, 3, 0, 2, -5]\t   2\n",
    "# [-3, -2, -1, 0, 1, 2, 3]\t 5\n",
    "# [-1, 1, -1, 1]\t 0\n",
    "\n",
    "\n",
    "def sol(number):\n",
    "    count = 0\n",
    "    sum_num = 0\n",
    "    answer = 0\n",
    "    for i in range(len(number)):\n",
    "        for j in range(i+1, len(number)):\n",
    "            for k in range(j+1, len(number)):\n",
    "                sum_num = number[i] + number[j] + number[k] \n",
    "                if sum_num == 0:\n",
    "                    answer += 1\n",
    "    return answer \n",
    "sol([-2, 3, 0, 2, -5])"
   ]
  },
  {
   "cell_type": "code",
   "execution_count": null,
   "metadata": {},
   "outputs": [],
   "source": []
  },
  {
   "cell_type": "code",
   "execution_count": null,
   "metadata": {},
   "outputs": [],
   "source": []
  },
  {
   "cell_type": "code",
   "execution_count": null,
   "metadata": {},
   "outputs": [],
   "source": []
  },
  {
   "cell_type": "code",
   "execution_count": null,
   "metadata": {},
   "outputs": [],
   "source": []
  }
 ],
 "metadata": {
  "colab": {
   "authorship_tag": "ABX9TyMv90vkodFRJEFoATsJ4+ng",
   "provenance": []
  },
  "kernelspec": {
   "display_name": "Python 3 (ipykernel)",
   "language": "python",
   "name": "python3"
  },
  "language_info": {
   "codemirror_mode": {
    "name": "ipython",
    "version": 3
   },
   "file_extension": ".py",
   "mimetype": "text/x-python",
   "name": "python",
   "nbconvert_exporter": "python",
   "pygments_lexer": "ipython3",
   "version": "3.11.2"
  }
 },
 "nbformat": 4,
 "nbformat_minor": 1
}
