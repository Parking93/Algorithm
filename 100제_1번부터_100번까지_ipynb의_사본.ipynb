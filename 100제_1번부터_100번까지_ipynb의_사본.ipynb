{
  "nbformat": 4,
  "nbformat_minor": 0,
  "metadata": {
    "colab": {
      "provenance": []
    },
    "kernelspec": {
      "name": "python3",
      "display_name": "Python 3"
    },
    "language_info": {
      "name": "python"
    }
  },
  "cells": [
    {
      "cell_type": "markdown",
      "source": [
        "# 1번"
      ],
      "metadata": {
        "id": "s2kbqJrEgik2"
      }
    },
    {
      "cell_type": "code",
      "execution_count": 6,
      "metadata": {
        "id": "oMGxcKNlcpXo"
      },
      "outputs": [],
      "source": [
        "nums = [100, 200, 300, 400, 500]"
      ]
    },
    {
      "cell_type": "code",
      "source": [
        "# 정답1\n",
        "nums.pop()\n",
        "nums.pop()"
      ],
      "metadata": {
        "id": "Cxg9iQlIg2Sm",
        "colab": {
          "base_uri": "https://localhost:8080/"
        },
        "outputId": "e674430b-1fea-4708-d411-3143bc30c58f"
      },
      "execution_count": 2,
      "outputs": [
        {
          "output_type": "execute_result",
          "data": {
            "text/plain": [
              "400"
            ]
          },
          "metadata": {},
          "execution_count": 2
        }
      ]
    },
    {
      "cell_type": "code",
      "source": [
        "# 정답2\n",
        "nums[:3]"
      ],
      "metadata": {
        "id": "dIENQBK_g5gV",
        "colab": {
          "base_uri": "https://localhost:8080/"
        },
        "outputId": "e4476fbe-87bb-4eb1-c8d5-20bc94c115be"
      },
      "execution_count": 4,
      "outputs": [
        {
          "output_type": "execute_result",
          "data": {
            "text/plain": [
              "[100, 200, 300]"
            ]
          },
          "metadata": {},
          "execution_count": 4
        }
      ]
    },
    {
      "cell_type": "code",
      "source": [
        "nums = [100, 200, 300, 400, 500]\n",
        "nums[-5:-2]"
      ],
      "metadata": {
        "colab": {
          "base_uri": "https://localhost:8080/"
        },
        "id": "sX0pEyU_hA6V",
        "outputId": "31eadf56-a2ec-4a88-d1b6-e4f0f2997b80"
      },
      "execution_count": 5,
      "outputs": [
        {
          "output_type": "execute_result",
          "data": {
            "text/plain": [
              "[100, 200, 300]"
            ]
          },
          "metadata": {},
          "execution_count": 5
        }
      ]
    },
    {
      "cell_type": "markdown",
      "source": [
        "# 2번"
      ],
      "metadata": {
        "id": "_4Iy7VGAhROf"
      }
    },
    {
      "cell_type": "code",
      "source": [
        "l = [200, 100, 300]\n",
        "l.insert(2, 10000)\n",
        "print(l)"
      ],
      "metadata": {
        "colab": {
          "base_uri": "https://localhost:8080/"
        },
        "id": "UZ2ahGKohVko",
        "outputId": "118e16d1-6e05-4986-b646-0f2722c694c7"
      },
      "execution_count": null,
      "outputs": [
        {
          "output_type": "stream",
          "name": "stdout",
          "text": [
            "[200, 100, 10000, 300]\n"
          ]
        }
      ]
    },
    {
      "cell_type": "code",
      "source": [
        "# l[:2] + [10000] + l[-1] #error\n",
        "l[:2] + [10000] + [l[-1]]"
      ],
      "metadata": {
        "colab": {
          "base_uri": "https://localhost:8080/"
        },
        "id": "B_HU6U-Khabl",
        "outputId": "6f53a93a-ab4d-4eda-aacb-f704412a409c"
      },
      "execution_count": null,
      "outputs": [
        {
          "output_type": "execute_result",
          "data": {
            "text/plain": [
              "[200, 100, 10000, 300]"
            ]
          },
          "metadata": {},
          "execution_count": 6
        }
      ]
    },
    {
      "cell_type": "markdown",
      "source": [
        "# 5번"
      ],
      "metadata": {
        "id": "6gG9v-dvh8IB"
      }
    },
    {
      "cell_type": "code",
      "source": [
        "a = 10\n",
        "b = 2\n",
        "for i in range(1, 5, 2):\n",
        "    a += i\n",
        "\n",
        "print(a + b)"
      ],
      "metadata": {
        "colab": {
          "base_uri": "https://localhost:8080/"
        },
        "id": "izRJxHcxh9zK",
        "outputId": "e82f706e-9fbe-4134-ff35-e405dd291794"
      },
      "execution_count": null,
      "outputs": [
        {
          "output_type": "stream",
          "name": "stdout",
          "text": [
            "16\n"
          ]
        }
      ]
    },
    {
      "cell_type": "markdown",
      "source": [
        "# 6번"
      ],
      "metadata": {
        "id": "Xs-zulKfiToO"
      }
    },
    {
      "cell_type": "code",
      "source": [
        "# 다음중 True인 것은? 2번\n",
        "# 1)  None\n",
        "# 2)  1\n",
        "# 3)  \"\"\n",
        "# 4)  0\n",
        "# 5)  bool(0)"
      ],
      "metadata": {
        "id": "jS0eGv9TiSYu"
      },
      "execution_count": null,
      "outputs": []
    },
    {
      "cell_type": "code",
      "source": [
        "bool([]) # False\n",
        "bool([1, 2, 3]) # True"
      ],
      "metadata": {
        "id": "25OL1dh0iYod",
        "colab": {
          "base_uri": "https://localhost:8080/"
        },
        "outputId": "49e976bd-d536-4873-a5a8-5f65b8c1ddfc"
      },
      "execution_count": null,
      "outputs": [
        {
          "output_type": "execute_result",
          "data": {
            "text/plain": [
              "True"
            ]
          },
          "metadata": {},
          "execution_count": 9
        }
      ]
    },
    {
      "cell_type": "code",
      "source": [
        "# l의 값이 변한 적이 있다? 없다. 그런데 왜 bool 값은 변했을까?\n",
        "l = []\n",
        "print(id(l))\n",
        "print(bool(l))"
      ],
      "metadata": {
        "colab": {
          "base_uri": "https://localhost:8080/"
        },
        "id": "-zBOOpF-il9W",
        "outputId": "e36f33f3-660e-4022-b0cd-692e641210a2"
      },
      "execution_count": null,
      "outputs": [
        {
          "output_type": "stream",
          "name": "stdout",
          "text": [
            "135380548677760\n",
            "False\n"
          ]
        }
      ]
    },
    {
      "cell_type": "code",
      "source": [
        "l.append(10)\n",
        "l\n",
        "print(id(l))\n",
        "print(bool(l))"
      ],
      "metadata": {
        "colab": {
          "base_uri": "https://localhost:8080/"
        },
        "id": "HFi2WC2tippd",
        "outputId": "5bf230a9-6d77-45ff-c9f2-ae1e977d0419"
      },
      "execution_count": null,
      "outputs": [
        {
          "output_type": "stream",
          "name": "stdout",
          "text": [
            "135380548677760\n",
            "True\n"
          ]
        }
      ]
    },
    {
      "cell_type": "code",
      "source": [
        "# Python은 지극히 인간의 입장에서 출력을 고려한 것입니다."
      ],
      "metadata": {
        "id": "GcssZP6BjTGc"
      },
      "execution_count": null,
      "outputs": []
    },
    {
      "cell_type": "code",
      "source": [
        "l = '' #immutable\n",
        "print(id(l))\n",
        "print(bool(l))"
      ],
      "metadata": {
        "id": "rVv9XqfJjddS",
        "colab": {
          "base_uri": "https://localhost:8080/"
        },
        "outputId": "b726a7df-54f7-4e05-eeb3-63620c71c79d"
      },
      "execution_count": null,
      "outputs": [
        {
          "output_type": "stream",
          "name": "stdout",
          "text": [
            "135380976959536\n",
            "False\n"
          ]
        }
      ]
    },
    {
      "cell_type": "code",
      "source": [
        "l = 'a'\n",
        "print(id(l))\n",
        "print(bool(l))"
      ],
      "metadata": {
        "id": "UK1lZw9-jfIx",
        "colab": {
          "base_uri": "https://localhost:8080/"
        },
        "outputId": "ce9b8eaf-7038-49bd-8f10-162257ac3abc"
      },
      "execution_count": null,
      "outputs": [
        {
          "output_type": "stream",
          "name": "stdout",
          "text": [
            "135380975746480\n",
            "True\n"
          ]
        }
      ]
    },
    {
      "cell_type": "markdown",
      "source": [
        "#7번"
      ],
      "metadata": {
        "id": "IHIdonsLj_-4"
      }
    },
    {
      "cell_type": "code",
      "source": [
        "# 언더바 변수에 대하여\n",
        "# 반복문 등에서 사용하지 않는 변수에 _를 넣습니다.\n",
        "for _ in range(5):\n",
        "    print('hello')\n",
        "\n",
        "# 프라이빗한 변수에서 _를 사용합니다.\n",
        "class Human():\n",
        "    _age = 0"
      ],
      "metadata": {
        "id": "L4EmTFAoj-gP",
        "colab": {
          "base_uri": "https://localhost:8080/"
        },
        "outputId": "de6a3097-2757-46aa-8558-490cfd36d81e"
      },
      "execution_count": null,
      "outputs": [
        {
          "output_type": "stream",
          "name": "stdout",
          "text": [
            "hello\n",
            "hello\n",
            "hello\n",
            "hello\n",
            "hello\n"
          ]
        }
      ]
    },
    {
      "cell_type": "markdown",
      "source": [
        "# 8번"
      ],
      "metadata": {
        "id": "sVPTYYzTk4XV"
      }
    },
    {
      "cell_type": "code",
      "source": [
        "d = {'height':180,\n",
        "     'weight':78,\n",
        "     'weight':84,\n",
        "     'temparture':36,\n",
        "     'eyesight':1}\n",
        "print(d['weight'])"
      ],
      "metadata": {
        "colab": {
          "base_uri": "https://localhost:8080/"
        },
        "id": "W5tSbWn2kj3f",
        "outputId": "092a2b48-fb6b-4090-e204-ba6d46c289e0"
      },
      "execution_count": null,
      "outputs": [
        {
          "output_type": "stream",
          "name": "stdout",
          "text": [
            "84\n"
          ]
        }
      ]
    },
    {
      "cell_type": "markdown",
      "source": [
        "# 9번"
      ],
      "metadata": {
        "id": "jxwS_ff6ltBT"
      }
    },
    {
      "cell_type": "code",
      "source": [
        "year = '2019'\n",
        "month = '04'\n",
        "day = '26'\n",
        "hour = '11'\n",
        "minute = '34'\n",
        "second = '27'\n",
        "\n",
        "print(year, month, day, sep='/', end=' ')\n",
        "print(hour, minute, second, sep=':')"
      ],
      "metadata": {
        "colab": {
          "base_uri": "https://localhost:8080/"
        },
        "id": "asAweoYDlHZo",
        "outputId": "b25a4725-b64b-4f65-8cac-03510ced784e"
      },
      "execution_count": null,
      "outputs": [
        {
          "output_type": "stream",
          "name": "stdout",
          "text": [
            "2019/04/26 11:34:27\n"
          ]
        }
      ]
    },
    {
      "cell_type": "markdown",
      "source": [
        "# 10번"
      ],
      "metadata": {
        "id": "9x6xuhE8l9j4"
      }
    },
    {
      "cell_type": "code",
      "source": [
        "#     *\n",
        "#    ***\n",
        "#   *****\n",
        "#  *******\n",
        "# *********"
      ],
      "metadata": {
        "id": "yjSo4YJQl-tj"
      },
      "execution_count": null,
      "outputs": []
    },
    {
      "cell_type": "code",
      "source": [
        "n = 5\n",
        "for i in range(1, n+1):\n",
        "    print(i)"
      ],
      "metadata": {
        "colab": {
          "base_uri": "https://localhost:8080/"
        },
        "id": "fyqmdEjhmI__",
        "outputId": "e47a11a4-778b-4edb-edc9-55afc8638cec"
      },
      "execution_count": null,
      "outputs": [
        {
          "output_type": "stream",
          "name": "stdout",
          "text": [
            "1\n",
            "2\n",
            "3\n",
            "4\n",
            "5\n"
          ]
        }
      ]
    },
    {
      "cell_type": "code",
      "source": [
        "n = 5\n",
        "for i in range(1, n + 1):\n",
        "    print(((n - i) * ' ') + '*')"
      ],
      "metadata": {
        "colab": {
          "base_uri": "https://localhost:8080/"
        },
        "id": "B23R8NpTmV9T",
        "outputId": "cfdbf056-294d-45ba-dbf9-38cf1e57720f"
      },
      "execution_count": null,
      "outputs": [
        {
          "output_type": "stream",
          "name": "stdout",
          "text": [
            "    *\n",
            "   *\n",
            "  *\n",
            " *\n",
            "*\n"
          ]
        }
      ]
    },
    {
      "cell_type": "code",
      "source": [
        "n = 5\n",
        "for i in range(1, n + 1):\n",
        "    print(((n - i) * ' ') + (((2 * i) - 1)) * '*')"
      ],
      "metadata": {
        "colab": {
          "base_uri": "https://localhost:8080/"
        },
        "id": "AFgB0F0NnmFH",
        "outputId": "d32f521e-4dde-408a-e435-8a10bbca2942"
      },
      "execution_count": null,
      "outputs": [
        {
          "output_type": "stream",
          "name": "stdout",
          "text": [
            "    *\n",
            "   ***\n",
            "  *****\n",
            " *******\n",
            "*********\n"
          ]
        }
      ]
    },
    {
      "cell_type": "markdown",
      "source": [
        "# 11번"
      ],
      "metadata": {
        "id": "NpysPE7SoHAK"
      }
    },
    {
      "cell_type": "code",
      "source": [
        "s = 0\n",
        "for i in range(1, 101):\n",
        "    s += i\n",
        "print(s)"
      ],
      "metadata": {
        "colab": {
          "base_uri": "https://localhost:8080/"
        },
        "id": "bZPs_ZsDn-zl",
        "outputId": "6e131d03-9dfa-4a58-826d-5f04983509fe"
      },
      "execution_count": null,
      "outputs": [
        {
          "output_type": "stream",
          "name": "stdout",
          "text": [
            "5050\n"
          ]
        }
      ]
    },
    {
      "cell_type": "markdown",
      "source": [
        "# 12번"
      ],
      "metadata": {
        "id": "WnXhtKqmreeQ"
      }
    },
    {
      "cell_type": "code",
      "source": [
        "class Wizard:\n",
        "    def __init__(self, health, mana, armor):\n",
        "        '''\n",
        "        self는 인스턴스, 인스턴스 메모리 영역\n",
        "        '''\n",
        "        self.health = health\n",
        "        self.mana = mana\n",
        "        self.armor = armor\n",
        "\n",
        "    def attack(self):\n",
        "        print('파이어볼')\n",
        "\n",
        "\n",
        "jik = Wizard(health = 545, mana = 210, armor = 10)\n",
        "print(jik.health, jik.mana, jik.armor)\n",
        "jik.attack()"
      ],
      "metadata": {
        "colab": {
          "base_uri": "https://localhost:8080/"
        },
        "id": "BRI8IOyAoSK_",
        "outputId": "b95273ea-8f72-4c45-f0dd-10d93375665b"
      },
      "execution_count": null,
      "outputs": [
        {
          "output_type": "stream",
          "name": "stdout",
          "text": [
            "545 210 10\n",
            "파이어볼\n"
          ]
        }
      ]
    },
    {
      "cell_type": "markdown",
      "source": [
        "# 14번\n",
        "문제가 너무 쉬워 아래 문제로 풀도록 하겠습니다."
      ],
      "metadata": {
        "id": "qqT_oVWCtXnN"
      }
    },
    {
      "cell_type": "markdown",
      "source": [
        "* 링크 : https://school.programmers.co.kr/learn/courses/30/lessons/120871?language=javascript"
      ],
      "metadata": {
        "id": "Ta2cSkait3HZ"
      }
    },
    {
      "cell_type": "code",
      "source": [
        "# 이러한 조건 문제에서 문제가 쉽게 풀리지 않을 경우\n",
        "# 소거법을 사용하시는 방법으로 푸시면 좀 더 쉽게 풀 수도 있습니다.\n",
        "\n",
        "[i for i in range(100) if i % 3 != 0] # 3의 배수 제거!\n",
        "[i for i in range(100) if '3' not in str(i)] # 3이 들어가 있는 숫자 제거!\n",
        "\n",
        "[i for i in range(100) if i % 3 != 0 and '3' not in str(i)][9-1]\n",
        "[i for i in range(100) if i % 3 != 0 and '3' not in str(i)][10-1]\n",
        "\n",
        "solution = lambda n:[i for i in range(10000) if i % 3 != 0 and '3' not in str(i)][n-1]\n",
        "solution(9)"
      ],
      "metadata": {
        "colab": {
          "base_uri": "https://localhost:8080/"
        },
        "id": "ImkohBs5t4eK",
        "outputId": "e0d77341-05fe-4ad5-e175-76fa73252fa6"
      },
      "execution_count": null,
      "outputs": [
        {
          "output_type": "execute_result",
          "data": {
            "text/plain": [
              "14"
            ]
          },
          "metadata": {},
          "execution_count": 24
        }
      ]
    },
    {
      "cell_type": "markdown",
      "source": [
        "# 16번"
      ],
      "metadata": {
        "id": "3viTVK8PwH1h"
      }
    },
    {
      "cell_type": "code",
      "source": [
        "'안녕하세요'[::-1]"
      ],
      "metadata": {
        "colab": {
          "base_uri": "https://localhost:8080/",
          "height": 36
        },
        "id": "f-Uhk2DbwJP-",
        "outputId": "df8ace44-8612-4aa2-b34d-0ccc0e172ac5"
      },
      "execution_count": null,
      "outputs": [
        {
          "output_type": "execute_result",
          "data": {
            "text/plain": [
              "'요세하녕안'"
            ],
            "application/vnd.google.colaboratory.intrinsic+json": {
              "type": "string"
            }
          },
          "metadata": {},
          "execution_count": 25
        }
      ]
    },
    {
      "cell_type": "code",
      "source": [
        "''.join(list(reversed(list('안녕하세요'))))"
      ],
      "metadata": {
        "colab": {
          "base_uri": "https://localhost:8080/",
          "height": 36
        },
        "id": "1cOIhK7PwNus",
        "outputId": "d895bc6b-7877-4584-ef4e-fff30ad75d19"
      },
      "execution_count": null,
      "outputs": [
        {
          "output_type": "execute_result",
          "data": {
            "text/plain": [
              "'요세하녕안'"
            ],
            "application/vnd.google.colaboratory.intrinsic+json": {
              "type": "string"
            }
          },
          "metadata": {},
          "execution_count": 26
        }
      ]
    },
    {
      "cell_type": "code",
      "source": [
        "s = '안녕하세요'\n",
        "ss = list(s)\n",
        "ss.reverse()\n",
        "''.join(ss)"
      ],
      "metadata": {
        "colab": {
          "base_uri": "https://localhost:8080/",
          "height": 36
        },
        "id": "i3SAhaoownxG",
        "outputId": "e185dc5e-0bad-4885-8c9c-f24414ea650b"
      },
      "execution_count": null,
      "outputs": [
        {
          "output_type": "execute_result",
          "data": {
            "text/plain": [
              "'요세하녕안'"
            ],
            "application/vnd.google.colaboratory.intrinsic+json": {
              "type": "string"
            }
          },
          "metadata": {},
          "execution_count": 27
        }
      ]
    },
    {
      "cell_type": "code",
      "source": [
        "s = '안녕하세요'\n",
        "result = ''\n",
        "for i in s:\n",
        "    result = i + result\n",
        "result"
      ],
      "metadata": {
        "colab": {
          "base_uri": "https://localhost:8080/",
          "height": 36
        },
        "id": "JhrGdy2cw02g",
        "outputId": "c3e2144b-abb8-4c80-d52f-a413ef975d7a"
      },
      "execution_count": null,
      "outputs": [
        {
          "output_type": "execute_result",
          "data": {
            "text/plain": [
              "'요세하녕안'"
            ],
            "application/vnd.google.colaboratory.intrinsic+json": {
              "type": "string"
            }
          },
          "metadata": {},
          "execution_count": 28
        }
      ]
    },
    {
      "cell_type": "code",
      "source": [
        "def reverse(s):\n",
        "    if len(s) == 1:\n",
        "        return s\n",
        "    else:\n",
        "        return reverse(s[1:]) + s[0]\n",
        "\n",
        "reverse('안녕하세요')"
      ],
      "metadata": {
        "colab": {
          "base_uri": "https://localhost:8080/",
          "height": 36
        },
        "id": "XnQU6CQbw92v",
        "outputId": "4840a701-c1ab-46fb-91ed-c6ac097e276a"
      },
      "execution_count": null,
      "outputs": [
        {
          "output_type": "execute_result",
          "data": {
            "text/plain": [
              "'요세하녕안'"
            ],
            "application/vnd.google.colaboratory.intrinsic+json": {
              "type": "string"
            }
          },
          "metadata": {},
          "execution_count": 29
        }
      ]
    },
    {
      "cell_type": "markdown",
      "source": [
        "# 17번"
      ],
      "metadata": {
        "id": "Pt8zZvzfxmTC"
      }
    },
    {
      "cell_type": "code",
      "source": [
        "height = 150\n",
        "\n",
        "if height >= 150: print('YES')"
      ],
      "metadata": {
        "colab": {
          "base_uri": "https://localhost:8080/"
        },
        "id": "7vEjUdwTxnm6",
        "outputId": "eee43c48-99a1-424f-9881-36de3206c7c5"
      },
      "execution_count": null,
      "outputs": [
        {
          "output_type": "stream",
          "name": "stdout",
          "text": [
            "YES\n"
          ]
        }
      ]
    },
    {
      "cell_type": "code",
      "source": [
        "height = 149\n",
        "\n",
        "# print('NO') if height >= 150: print('YES') # Error\n",
        "print('YES') if height >= 150 else print('NO')"
      ],
      "metadata": {
        "colab": {
          "base_uri": "https://localhost:8080/"
        },
        "id": "pUqz-gsDxxu6",
        "outputId": "d2c3ef30-15fb-423d-84a6-f0055ed98ef6"
      },
      "execution_count": null,
      "outputs": [
        {
          "output_type": "stream",
          "name": "stdout",
          "text": [
            "NO\n"
          ]
        }
      ]
    },
    {
      "cell_type": "code",
      "source": [
        "def solution(height):\n",
        "    return 'YES' if height >= 150 else 'NO'\n",
        "\n",
        "solution(150)"
      ],
      "metadata": {
        "colab": {
          "base_uri": "https://localhost:8080/",
          "height": 36
        },
        "id": "AD5HIp6pyVwY",
        "outputId": "ca73baa6-53b7-4a9f-ccfd-e8889f02d5b4"
      },
      "execution_count": null,
      "outputs": [
        {
          "output_type": "execute_result",
          "data": {
            "text/plain": [
              "'YES'"
            ],
            "application/vnd.google.colaboratory.intrinsic+json": {
              "type": "string"
            }
          },
          "metadata": {},
          "execution_count": 32
        }
      ]
    },
    {
      "cell_type": "markdown",
      "source": [
        "# 18번"
      ],
      "metadata": {
        "id": "-qnX2PBuy_Qz"
      }
    },
    {
      "cell_type": "code",
      "source": [
        "list(map(int, '20 30 40'.split(' ')))"
      ],
      "metadata": {
        "colab": {
          "base_uri": "https://localhost:8080/"
        },
        "id": "j4xrer8ezArl",
        "outputId": "7d67a03b-f588-402e-da0d-c4f8871f067a"
      },
      "execution_count": null,
      "outputs": [
        {
          "output_type": "execute_result",
          "data": {
            "text/plain": [
              "[20, 30, 40]"
            ]
          },
          "metadata": {},
          "execution_count": 33
        }
      ]
    },
    {
      "cell_type": "code",
      "source": [
        "sum(map(int, '20 30 40'.split(' '))) / 3"
      ],
      "metadata": {
        "colab": {
          "base_uri": "https://localhost:8080/"
        },
        "id": "9gA0a3R6zTiB",
        "outputId": "5ecaf84f-aaec-4add-a696-c6a64889a620"
      },
      "execution_count": null,
      "outputs": [
        {
          "output_type": "execute_result",
          "data": {
            "text/plain": [
              "30.0"
            ]
          },
          "metadata": {},
          "execution_count": 34
        }
      ]
    },
    {
      "cell_type": "markdown",
      "source": [
        "# 21번"
      ],
      "metadata": {
        "id": "kOLnoGLQz4WU"
      }
    },
    {
      "cell_type": "code",
      "source": [
        "# 1)  x = {1, 2, 3, 5, 6, 7}\n",
        "# 2)  x = {} # dict\n",
        "# 3)  x = set('python')\n",
        "# 4)  x = set(range(5))\n",
        "# 5)  x = set()"
      ],
      "metadata": {
        "id": "cJ8UADJ2z5wx"
      },
      "execution_count": null,
      "outputs": []
    },
    {
      "cell_type": "code",
      "source": [
        "t = 1\n",
        "t = (1) # tuple 아님!\n",
        "t = (1,)\n",
        "t\n",
        "\n",
        "# 어떤 라이브러리나 프레임웤 마지막 콤마가 꼭 있는 이유(3 ~ 4개 있습니다.)\n",
        "# 버전관리하는 곳에서 콤마를 버전의 업이라고 인식하는 경우가 있습니다.\n",
        "# Ctrl + C, V\n",
        "# 튜플인경우 상수, 문자가 들어갔을 때 튜플이 아닌 int, str로 변환되는 것을 막기 위해\n",
        "옵션 = (\n",
        "    'a',\n",
        ")"
      ],
      "metadata": {
        "id": "MQhsi4Xpz92U"
      },
      "execution_count": null,
      "outputs": []
    },
    {
      "cell_type": "markdown",
      "source": [
        "# 24번"
      ],
      "metadata": {
        "id": "vkN36fWD1AYr"
      }
    },
    {
      "cell_type": "code",
      "source": [
        "'mary'.upper()"
      ],
      "metadata": {
        "colab": {
          "base_uri": "https://localhost:8080/",
          "height": 36
        },
        "id": "gBQlmkZy0hRB",
        "outputId": "2bbf4517-c2ba-4389-8a9e-0908e87b4879"
      },
      "execution_count": null,
      "outputs": [
        {
          "output_type": "execute_result",
          "data": {
            "text/plain": [
              "'MARY'"
            ],
            "application/vnd.google.colaboratory.intrinsic+json": {
              "type": "string"
            }
          },
          "metadata": {},
          "execution_count": 37
        }
      ]
    },
    {
      "cell_type": "code",
      "source": [
        "ord('a')"
      ],
      "metadata": {
        "colab": {
          "base_uri": "https://localhost:8080/"
        },
        "id": "ZHiqnW9i1MRj",
        "outputId": "d44a89c1-2fac-4369-e338-854aed1755ae"
      },
      "execution_count": null,
      "outputs": [
        {
          "output_type": "execute_result",
          "data": {
            "text/plain": [
              "97"
            ]
          },
          "metadata": {},
          "execution_count": 38
        }
      ]
    },
    {
      "cell_type": "code",
      "source": [
        "ord('A')"
      ],
      "metadata": {
        "colab": {
          "base_uri": "https://localhost:8080/"
        },
        "id": "rrBG5tQA1QDS",
        "outputId": "8eacc8cd-3e8d-42de-e668-be18f7f949be"
      },
      "execution_count": null,
      "outputs": [
        {
          "output_type": "execute_result",
          "data": {
            "text/plain": [
              "65"
            ]
          },
          "metadata": {},
          "execution_count": 39
        }
      ]
    },
    {
      "cell_type": "code",
      "source": [
        "ord('a') - ord('A')"
      ],
      "metadata": {
        "colab": {
          "base_uri": "https://localhost:8080/"
        },
        "id": "wf2Quxzp1RrA",
        "outputId": "4f623e46-7fd9-48b9-b974-3c73ae97d548"
      },
      "execution_count": null,
      "outputs": [
        {
          "output_type": "execute_result",
          "data": {
            "text/plain": [
              "32"
            ]
          },
          "metadata": {},
          "execution_count": 40
        }
      ]
    },
    {
      "cell_type": "code",
      "source": [
        "ord('a') - 32"
      ],
      "metadata": {
        "colab": {
          "base_uri": "https://localhost:8080/"
        },
        "id": "lQWa3h0E1VVR",
        "outputId": "13bc34fd-f54e-411c-9591-38f1b5497757"
      },
      "execution_count": null,
      "outputs": [
        {
          "output_type": "execute_result",
          "data": {
            "text/plain": [
              "65"
            ]
          },
          "metadata": {},
          "execution_count": 41
        }
      ]
    },
    {
      "cell_type": "code",
      "source": [
        "chr(ord('a') - 32)"
      ],
      "metadata": {
        "colab": {
          "base_uri": "https://localhost:8080/",
          "height": 36
        },
        "id": "JDMSBC_v1hX5",
        "outputId": "55646b40-f434-4624-a83a-9c14231736c7"
      },
      "execution_count": null,
      "outputs": [
        {
          "output_type": "execute_result",
          "data": {
            "text/plain": [
              "'A'"
            ],
            "application/vnd.google.colaboratory.intrinsic+json": {
              "type": "string"
            }
          },
          "metadata": {},
          "execution_count": 42
        }
      ]
    },
    {
      "cell_type": "code",
      "source": [
        "for i in 'mary':\n",
        "    print(chr(ord(i) - 32), end='') # 완벽한 코드는 아니고, 소문자인 것을 판단하는 if가 위에 있어야 합니다."
      ],
      "metadata": {
        "colab": {
          "base_uri": "https://localhost:8080/"
        },
        "id": "mVoZmR5Y1k0W",
        "outputId": "dba85dc2-51f6-4c4b-e70a-d0b7a6078b49"
      },
      "execution_count": null,
      "outputs": [
        {
          "output_type": "stream",
          "name": "stdout",
          "text": [
            "MARY"
          ]
        }
      ]
    },
    {
      "cell_type": "code",
      "source": [
        "# 도대체 이런 지식은 어디에 쓸모가 있을까요? 인코딩쪽에서 어떤 인코딩인지 확인하는 용도로 사용하기도 합니다.\n",
        "# 알고리즘은 얼마나 쓸모가 있나요? 코드를 읽는 속도와 이해하는 속도에 도움을 줍니다.\n",
        "# => 코드는 AI가 더 잘짭니다.ㅎㅎ 잘 짠것을 확인해주는 작업은 내가 해야 합니다."
      ],
      "metadata": {
        "id": "WOnBm80Y12qA"
      },
      "execution_count": null,
      "outputs": []
    },
    {
      "cell_type": "markdown",
      "source": [
        "# 26번 문제"
      ],
      "metadata": {
        "id": "uwZceaFU5xNi"
      }
    },
    {
      "cell_type": "code",
      "source": [
        "key = '수성, 금성, 지구, 화성, 목성, 토성, 천왕성, 해왕성'.split(', ')\n",
        "value = 'Mercury, Venus, Earth, Mars, Jupiter, Saturn, Uranus, Neptune'.split(', ')"
      ],
      "metadata": {
        "id": "lPM_7fUK5OXm"
      },
      "execution_count": null,
      "outputs": []
    },
    {
      "cell_type": "code",
      "source": [
        "dict(zip(key, value))"
      ],
      "metadata": {
        "colab": {
          "base_uri": "https://localhost:8080/"
        },
        "id": "PrVnxRe05ffQ",
        "outputId": "ad3ed400-58cd-4e03-db19-b6ad9d66350a"
      },
      "execution_count": null,
      "outputs": [
        {
          "output_type": "execute_result",
          "data": {
            "text/plain": [
              "{'수성': 'Mercury',\n",
              " '금성': 'Venus',\n",
              " '지구': 'Earth',\n",
              " '화성': 'Mars',\n",
              " '목성': 'Jupiter',\n",
              " '토성': 'Saturn',\n",
              " '천왕성': 'Uranus',\n",
              " '해왕성': 'Neptune'}"
            ]
          },
          "metadata": {},
          "execution_count": 46
        }
      ]
    },
    {
      "cell_type": "markdown",
      "source": [
        "# 28번"
      ],
      "metadata": {
        "id": "xnLUSn6g6FZ5"
      }
    },
    {
      "cell_type": "code",
      "source": [
        "s = 'python'\n",
        "for i in range(len(s)-1): # 아래 zip에서는 -1을 고려하지 않아도 됩니다.\n",
        "    print(s[i:i+2])"
      ],
      "metadata": {
        "colab": {
          "base_uri": "https://localhost:8080/"
        },
        "id": "ubve8QR15vyD",
        "outputId": "befc2613-977a-473b-d7f2-7f5611130aa3"
      },
      "execution_count": null,
      "outputs": [
        {
          "output_type": "stream",
          "name": "stdout",
          "text": [
            "py\n",
            "yt\n",
            "th\n",
            "ho\n",
            "on\n"
          ]
        }
      ]
    },
    {
      "cell_type": "code",
      "source": [
        "s = 'python'\n",
        "list(zip(s, s[1:])) # 짝이 안맞으면 어차피 생성하지 않습니다."
      ],
      "metadata": {
        "colab": {
          "base_uri": "https://localhost:8080/"
        },
        "id": "jC-dH45u6h5D",
        "outputId": "a805fb4e-5c23-4d82-d352-088a4f81f945"
      },
      "execution_count": null,
      "outputs": [
        {
          "output_type": "execute_result",
          "data": {
            "text/plain": [
              "[('p', 'y'), ('y', 't'), ('t', 'h'), ('h', 'o'), ('o', 'n')]"
            ]
          },
          "metadata": {},
          "execution_count": 48
        }
      ]
    },
    {
      "cell_type": "code",
      "source": [
        "s = 'python'\n",
        "for i in zip(s, s[1:]):\n",
        "    print(''.join(i))"
      ],
      "metadata": {
        "colab": {
          "base_uri": "https://localhost:8080/"
        },
        "id": "2Gt5BKgd61GT",
        "outputId": "4823cf25-77d5-431d-ec47-e7b21026dbc3"
      },
      "execution_count": null,
      "outputs": [
        {
          "output_type": "stream",
          "name": "stdout",
          "text": [
            "py\n",
            "yt\n",
            "th\n",
            "ho\n",
            "on\n"
          ]
        }
      ]
    },
    {
      "cell_type": "code",
      "source": [
        "s = 'life is short, you need python'\n",
        "for i in range(len(s)-2): # zip에서는 -2을 고려하지 않아도 됩니다.\n",
        "    print(s[i:i+3])"
      ],
      "metadata": {
        "id": "ku0x8Qx469rD",
        "colab": {
          "base_uri": "https://localhost:8080/"
        },
        "outputId": "f7b5f0ad-ea9a-4834-fd59-00638b1eb86b"
      },
      "execution_count": null,
      "outputs": [
        {
          "output_type": "stream",
          "name": "stdout",
          "text": [
            "lif\n",
            "ife\n",
            "fe \n",
            "e i\n",
            " is\n",
            "is \n",
            "s s\n",
            " sh\n",
            "sho\n",
            "hor\n",
            "ort\n",
            "rt,\n",
            "t, \n",
            ", y\n",
            " yo\n",
            "you\n",
            "ou \n",
            "u n\n",
            " ne\n",
            "nee\n",
            "eed\n",
            "ed \n",
            "d p\n",
            " py\n",
            "pyt\n",
            "yth\n",
            "tho\n",
            "hon\n"
          ]
        }
      ]
    },
    {
      "cell_type": "code",
      "source": [
        "p = [1, 3, 5, 7, 11, 14, 19, 21, 22]\n",
        "list(zip(p, p[1:]))\n",
        "list(map(lambda x:x[1]-x[0], zip(p, p[1:])))"
      ],
      "metadata": {
        "colab": {
          "base_uri": "https://localhost:8080/"
        },
        "id": "3_G7Xj6y7SgP",
        "outputId": "f83fa0f0-7ee0-4fbe-b019-2f504ecf52d9"
      },
      "execution_count": null,
      "outputs": [
        {
          "output_type": "execute_result",
          "data": {
            "text/plain": [
              "[2, 2, 2, 4, 3, 5, 2, 1]"
            ]
          },
          "metadata": {},
          "execution_count": 51
        }
      ]
    },
    {
      "cell_type": "markdown",
      "source": [
        "# 29번\n",
        "* 문제 변경: 대문자만 지나가도록 코딩해주세요. 'HellO WoRld' -> HOR"
      ],
      "metadata": {
        "id": "slwb3_HJ7-jr"
      }
    },
    {
      "cell_type": "code",
      "source": [
        "for s in 'HellO WoRld':\n",
        "    if s != s.lower():\n",
        "        print(s)"
      ],
      "metadata": {
        "colab": {
          "base_uri": "https://localhost:8080/"
        },
        "id": "9-v4e_Bm8Gzn",
        "outputId": "efa989d7-3594-4908-c446-561ef53d0e3b"
      },
      "execution_count": null,
      "outputs": [
        {
          "output_type": "stream",
          "name": "stdout",
          "text": [
            "H\n",
            "O\n",
            "W\n",
            "R\n"
          ]
        }
      ]
    },
    {
      "cell_type": "code",
      "source": [
        "for s in 'HellO WoRld':\n",
        "    if 'A' <= s <= 'Z':\n",
        "        print(s)"
      ],
      "metadata": {
        "colab": {
          "base_uri": "https://localhost:8080/"
        },
        "id": "G2kMdVIt8ThK",
        "outputId": "e6a4091f-3d46-4a73-9586-0392335ca900"
      },
      "execution_count": null,
      "outputs": [
        {
          "output_type": "stream",
          "name": "stdout",
          "text": [
            "H\n",
            "O\n",
            "W\n",
            "R\n"
          ]
        }
      ]
    },
    {
      "cell_type": "code",
      "source": [
        "for s in 'HellO WoRld':\n",
        "    if s.isupper(): # 서영님께서 말씀해주신 코드가 가장 좋은 코드라고 생각합니다.\n",
        "        print(s)"
      ],
      "metadata": {
        "colab": {
          "base_uri": "https://localhost:8080/"
        },
        "id": "QSRh5SGA8bY1",
        "outputId": "263c6c46-d96f-4e6a-f092-27d9c10cdcc5"
      },
      "execution_count": null,
      "outputs": [
        {
          "output_type": "stream",
          "name": "stdout",
          "text": [
            "H\n",
            "O\n",
            "W\n",
            "R\n"
          ]
        }
      ]
    },
    {
      "cell_type": "markdown",
      "source": [
        "# 30번"
      ],
      "metadata": {
        "id": "0JyBaQgy87Uz"
      }
    },
    {
      "cell_type": "code",
      "source": [
        "'pineapple is yummy apple'.find('apple') # 없는 것을 찾을 때 -1\n",
        "'pineapple is yummy apple'.index('xpple') # 없는 것을 찾을 때 error <- error가 나면 서비스 멈춥니다!\n",
        "# 예를 들어 주기적으로 크롤링하는 코드가 있다면\n",
        "# find를 쓰셔서 error가 안나고 다음 코드로 넘어가게 코딩하실 수 있습니다.\n",
        "# 예외처리를 하는 것이 가장 좋습니다.\n",
        "# 정답: 목적에 맞게 사용하셔야 합니다."
      ],
      "metadata": {
        "id": "imZaMCuW86Vk",
        "colab": {
          "base_uri": "https://localhost:8080/",
          "height": 246
        },
        "outputId": "13823500-6414-47d9-d0cb-8fc809e771e6"
      },
      "execution_count": null,
      "outputs": [
        {
          "output_type": "error",
          "ename": "ValueError",
          "evalue": "ignored",
          "traceback": [
            "\u001b[0;31m---------------------------------------------------------------------------\u001b[0m",
            "\u001b[0;31mValueError\u001b[0m                                Traceback (most recent call last)",
            "\u001b[0;32m<ipython-input-55-ab8b62d90803>\u001b[0m in \u001b[0;36m<cell line: 2>\u001b[0;34m()\u001b[0m\n\u001b[1;32m      1\u001b[0m \u001b[0;34m'pineapple is yummy apple'\u001b[0m\u001b[0;34m.\u001b[0m\u001b[0mfind\u001b[0m\u001b[0;34m(\u001b[0m\u001b[0;34m'apple'\u001b[0m\u001b[0;34m)\u001b[0m \u001b[0;31m# 없는 것을 찾을 때 -1\u001b[0m\u001b[0;34m\u001b[0m\u001b[0;34m\u001b[0m\u001b[0m\n\u001b[0;32m----> 2\u001b[0;31m \u001b[0;34m'pineapple is yummy apple'\u001b[0m\u001b[0;34m.\u001b[0m\u001b[0mindex\u001b[0m\u001b[0;34m(\u001b[0m\u001b[0;34m'xpple'\u001b[0m\u001b[0;34m)\u001b[0m \u001b[0;31m# 없는 것을 찾을 때 error <- error가 나면 서비스 멈춥니다!\u001b[0m\u001b[0;34m\u001b[0m\u001b[0;34m\u001b[0m\u001b[0m\n\u001b[0m\u001b[1;32m      3\u001b[0m \u001b[0;31m# 예를 들어 주기적으로 크롤링하는 코드가 있다면\u001b[0m\u001b[0;34m\u001b[0m\u001b[0;34m\u001b[0m\u001b[0m\n\u001b[1;32m      4\u001b[0m \u001b[0;31m# find를 쓰셔서 error가 안나고 다음 코드로 넘어가게 코딩하실 수 있습니다.\u001b[0m\u001b[0;34m\u001b[0m\u001b[0;34m\u001b[0m\u001b[0m\n\u001b[1;32m      5\u001b[0m \u001b[0;31m# 예외처리를 하는 것이 가장 좋습니다.\u001b[0m\u001b[0;34m\u001b[0m\u001b[0;34m\u001b[0m\u001b[0m\n",
            "\u001b[0;31mValueError\u001b[0m: substring not found"
          ]
        }
      ]
    },
    {
      "cell_type": "code",
      "source": [
        "'pineapple is yummy apple'.rfind('apple')\n",
        "'pineapple is yummy apple'.rindex('apple')"
      ],
      "metadata": {
        "colab": {
          "base_uri": "https://localhost:8080/"
        },
        "id": "QK1smtOt-RgJ",
        "outputId": "adbb7205-4cf6-42b0-efcf-f763734efde4"
      },
      "execution_count": null,
      "outputs": [
        {
          "output_type": "execute_result",
          "data": {
            "text/plain": [
              "19"
            ]
          },
          "metadata": {},
          "execution_count": 56
        }
      ]
    },
    {
      "cell_type": "code",
      "source": [
        "'pineapple is yummy apple'.find('apple', 10)\n",
        "'pineapple is yummy apple'.index('apple', 10)"
      ],
      "metadata": {
        "colab": {
          "base_uri": "https://localhost:8080/"
        },
        "id": "y5tfwUMk-ZlZ",
        "outputId": "a8d433d9-559d-43e0-c2a5-e450369d5b80"
      },
      "execution_count": null,
      "outputs": [
        {
          "output_type": "execute_result",
          "data": {
            "text/plain": [
              "19"
            ]
          },
          "metadata": {},
          "execution_count": 57
        }
      ]
    },
    {
      "cell_type": "markdown",
      "source": [
        "# 31번\n"
      ],
      "metadata": {
        "id": "UA6V3Rog_Mga"
      }
    },
    {
      "cell_type": "code",
      "source": [
        "# https://wayhome25.github.io/python/2017/06/14/time-complexity/\n",
        "# 1)  l[i]\n",
        "# 2)  l.append(5)\n",
        "# 3)  l[a:b] # 정답\n",
        "# 4)  l.pop()\n",
        "# 5)  l.clear()"
      ],
      "metadata": {
        "id": "d1kCIHJ--pAc"
      },
      "execution_count": null,
      "outputs": []
    },
    {
      "cell_type": "code",
      "source": [
        "# 그럼에도 불구하고 슬라이싱을 사용해야 할 경우\n",
        "# error를 발생시키지 않기 때문에\n",
        "\n",
        "l = [1, 2, 3, 4, 5]\n",
        "\n",
        "# l[10]  # out of range error!\n",
        "l[10:11] # out of range error가 안남! 그런데 기능은 같음!"
      ],
      "metadata": {
        "colab": {
          "base_uri": "https://localhost:8080/"
        },
        "id": "5Hkxv3SF_Tan",
        "outputId": "c6850d64-07d7-410e-b640-e884533b8c3e"
      },
      "execution_count": null,
      "outputs": [
        {
          "output_type": "execute_result",
          "data": {
            "text/plain": [
              "[]"
            ]
          },
          "metadata": {},
          "execution_count": 59
        }
      ]
    },
    {
      "cell_type": "markdown",
      "source": [
        "# 35번"
      ],
      "metadata": {
        "id": "GU6mJZV-AUiK"
      }
    },
    {
      "cell_type": "code",
      "source": [
        "# 매우매우 중요한 내용\n",
        "\n",
        "def one(n):\n",
        "    def two(value):\n",
        "        return value ** n\n",
        "    return two\n",
        "\n",
        "a = one(2)\n",
        "b = one(3)\n",
        "c = one(4)\n",
        "print(a(10))\n",
        "print(b(10))\n",
        "print(c(10))"
      ],
      "metadata": {
        "colab": {
          "base_uri": "https://localhost:8080/"
        },
        "id": "_Hupk7oXAWGG",
        "outputId": "dce6f93c-ee37-4e8c-8ff8-7b4f75b463d7"
      },
      "execution_count": null,
      "outputs": [
        {
          "output_type": "stream",
          "name": "stdout",
          "text": [
            "100\n",
            "1000\n",
            "10000\n"
          ]
        }
      ]
    },
    {
      "cell_type": "code",
      "source": [
        "# 객체지향 프로그래밍 예제\n",
        "class Book:\n",
        "    def __init__(self, title, content, author, pub_date):\n",
        "        self.title = title\n",
        "        self.content = content\n",
        "        self.author = author\n",
        "        self.pub_date = pub_date\n",
        "\n",
        "    def calculate_date(self):\n",
        "         self.pub_date - self.current_date"
      ],
      "metadata": {
        "id": "W33t-W80ByfI"
      },
      "execution_count": null,
      "outputs": []
    },
    {
      "cell_type": "code",
      "source": [
        "# 1. 함수를 변수에 할당할 수 있습니다.\n",
        "# 2. 함수를 데이터 구조에 저장할 수 있습니다.\n",
        "# 3. 함수를 인자로 다른 함수에 전달할 수 있습니다.\n",
        "# 4. 함수를 결과로서 반환할 수 있습니다."
      ],
      "metadata": {
        "id": "HkCE3E7fDn5f"
      },
      "execution_count": null,
      "outputs": []
    },
    {
      "cell_type": "code",
      "source": [
        "def add(x, y):\n",
        "    return x + y\n",
        "x = add\n",
        "x(10, 20)"
      ],
      "metadata": {
        "colab": {
          "base_uri": "https://localhost:8080/"
        },
        "id": "pD_bKFVwyiM8",
        "outputId": "049e3d66-6147-4a82-a579-54bcdfc772dc"
      },
      "execution_count": null,
      "outputs": [
        {
          "output_type": "execute_result",
          "data": {
            "text/plain": [
              "30"
            ]
          },
          "metadata": {},
          "execution_count": 65
        }
      ]
    },
    {
      "cell_type": "code",
      "source": [
        "id(x), id(add)"
      ],
      "metadata": {
        "colab": {
          "base_uri": "https://localhost:8080/"
        },
        "id": "9bds4fXKyiK4",
        "outputId": "9485db12-e1cf-4a9f-9f06-5a4f727cd70d"
      },
      "execution_count": null,
      "outputs": [
        {
          "output_type": "execute_result",
          "data": {
            "text/plain": [
              "(135380548703216, 135380548703216)"
            ]
          },
          "metadata": {},
          "execution_count": 66
        }
      ]
    },
    {
      "cell_type": "code",
      "source": [
        "def add():\n",
        "    return lambda x: x**2\n",
        "x = add()\n",
        "x(10)"
      ],
      "metadata": {
        "colab": {
          "base_uri": "https://localhost:8080/"
        },
        "id": "y3-gjxIYyiGk",
        "outputId": "e349be52-cb93-4f5b-8d9b-2135d3568b0f"
      },
      "execution_count": null,
      "outputs": [
        {
          "output_type": "execute_result",
          "data": {
            "text/plain": [
              "100"
            ]
          },
          "metadata": {},
          "execution_count": 68
        }
      ]
    },
    {
      "cell_type": "code",
      "source": [
        "# 데코레이터\n",
        "def simple_decorator(function):\n",
        "    def wrapper():\n",
        "        print(\"Before the function call\")\n",
        "        function()\n",
        "        print(\"After the function call\")\n",
        "    return wrapper\n",
        "\n",
        "@simple_decorator\n",
        "def hello():\n",
        "    print(\"Hello, World!\")\n",
        "\n",
        "hello() # 데코레이터가 없는 상태에서는 simple_decorator(hello)() 와 같습니다.\n"
      ],
      "metadata": {
        "id": "XGn1qdJ1yiEJ",
        "colab": {
          "base_uri": "https://localhost:8080/"
        },
        "outputId": "3beccf11-5f57-4e4f-e6ba-4a0b6c60ceae"
      },
      "execution_count": 69,
      "outputs": [
        {
          "output_type": "stream",
          "name": "stdout",
          "text": [
            "Before the function call\n",
            "Hello, World!\n",
            "After the function call\n"
          ]
        }
      ]
    },
    {
      "cell_type": "code",
      "source": [
        "# 데코레이터 활용 1\n",
        "def simple_decorator(function):\n",
        "    def wrapper(l):\n",
        "        print(\"Before the function call\")\n",
        "        print(function(map(int, l)))\n",
        "        print(\"After the function call\")\n",
        "    return wrapper\n",
        "\n",
        "@simple_decorator\n",
        "def 합(l):\n",
        "    return sum(l)\n",
        "\n",
        "합([1, 2, 3, '4'])"
      ],
      "metadata": {
        "colab": {
          "base_uri": "https://localhost:8080/"
        },
        "id": "LFxEUQ7U2BKD",
        "outputId": "a55d3ef5-8eaf-4a77-88fa-2fc9ee3b813c"
      },
      "execution_count": 70,
      "outputs": [
        {
          "output_type": "stream",
          "name": "stdout",
          "text": [
            "Before the function call\n",
            "10\n",
            "After the function call\n"
          ]
        }
      ]
    },
    {
      "cell_type": "code",
      "source": [
        "# 데코레이터 활용 2\n",
        "def debug(function):\n",
        "    def new_function(*args):\n",
        "        print(f'{function.__name__} 함수 시작')\n",
        "        print(*args)\n",
        "        result = function(*args)\n",
        "        print(f'{function.__name__} 함수 끝')\n",
        "        # return result # return 값이 있는 데코레이터는 바로 뒤에서 진행합니다.\n",
        "\n",
        "    return new_function\n",
        "\n",
        "\n",
        "@debug\n",
        "def sum_1_to_n(n):\n",
        "    return n * (n + 1) / 2\n",
        "\n",
        "\n",
        "result = sum_1_to_n(30)\n",
        "\n",
        "print(result)"
      ],
      "metadata": {
        "colab": {
          "base_uri": "https://localhost:8080/"
        },
        "id": "YC1SJf8J2Mcz",
        "outputId": "66a88810-27ae-409d-9066-a0fcabf55b5b"
      },
      "execution_count": 71,
      "outputs": [
        {
          "output_type": "stream",
          "name": "stdout",
          "text": [
            "sum_1_to_n 함수 시작\n",
            "30\n",
            "sum_1_to_n 함수 끝\n",
            "None\n"
          ]
        }
      ]
    },
    {
      "cell_type": "code",
      "source": [
        "# *agrs: 변수가 여러개와도 받음\n",
        "def test(*args):\n",
        "    for i in args:\n",
        "        print(i)\n",
        "\n",
        "test(1, 2, 3, 4, 5, 'hello world')"
      ],
      "metadata": {
        "colab": {
          "base_uri": "https://localhost:8080/"
        },
        "id": "ci54_iBk20YL",
        "outputId": "21da79b9-df8a-4c56-a960-2520c80209e8"
      },
      "execution_count": 72,
      "outputs": [
        {
          "output_type": "stream",
          "name": "stdout",
          "text": [
            "1\n",
            "2\n",
            "3\n",
            "4\n",
            "5\n",
            "hello world\n"
          ]
        }
      ]
    },
    {
      "cell_type": "code",
      "source": [
        "# **kagrs: 키워드 아규먼츠\n",
        "\n",
        "def test(**kargs):\n",
        "    print(kargs)\n",
        "    for i in kargs:\n",
        "        print(i)\n",
        "\n",
        "test(one=1, two=2)\n"
      ],
      "metadata": {
        "colab": {
          "base_uri": "https://localhost:8080/"
        },
        "id": "kjoeb9i33En9",
        "outputId": "bc53eb48-87c6-4513-8113-2ed2e2908b73"
      },
      "execution_count": 78,
      "outputs": [
        {
          "output_type": "stream",
          "name": "stdout",
          "text": [
            "{'one': 1, 'two': 2}\n",
            "one\n",
            "two\n"
          ]
        }
      ]
    },
    {
      "cell_type": "code",
      "source": [
        "# 데코레이터 활용 3\n",
        "def decorator1(function):\n",
        "    def new_function(*args, **kwargs):\n",
        "        print('첫번째 데코레이터 시작')\n",
        "        result = function(*args, **kwargs)\n",
        "        print('첫번째 데코레이터 끝')\n",
        "        return result\n",
        "\n",
        "    return new_function\n",
        "\n",
        "\n",
        "def decorator2(function):\n",
        "    def new_function(*args, **kwargs):\n",
        "        print('두번째 데코레이터 시작')\n",
        "        result = function(*args, **kwargs)\n",
        "        print('두번째 데코레이터 끝')\n",
        "        return result\n",
        "\n",
        "    return new_function\n",
        "\n",
        "\n",
        "def decorator3(function):\n",
        "    def new_function(*args, **kwargs):\n",
        "        print('세번째 데코레이터 시작')\n",
        "        result = function(*args, **kwargs)\n",
        "        print('세번째 데코레이터 끝')\n",
        "        return result\n",
        "\n",
        "    return new_function\n",
        "\n",
        "@decorator1\n",
        "@decorator2\n",
        "@decorator3\n",
        "def sum_1_to_n(n):\n",
        "    return n * (n + 1) / 2\n",
        "\n",
        "result = sum_1_to_n(30)\n",
        "\n",
        "print(f'result: {result}')"
      ],
      "metadata": {
        "colab": {
          "base_uri": "https://localhost:8080/"
        },
        "id": "A-LH4Tj53oG5",
        "outputId": "b8eb4931-5398-410f-b5fd-58b58b527cea"
      },
      "execution_count": 79,
      "outputs": [
        {
          "output_type": "stream",
          "name": "stdout",
          "text": [
            "첫번째 데코레이터 시작\n",
            "두번째 데코레이터 시작\n",
            "세번째 데코레이터 시작\n",
            "세번째 데코레이터 끝\n",
            "두번째 데코레이터 끝\n",
            "첫번째 데코레이터 끝\n",
            "result: 465.0\n"
          ]
        }
      ]
    },
    {
      "cell_type": "code",
      "source": [
        "# 동적 데코레이터\n",
        "def add(n):\n",
        "    def decorator(function):\n",
        "        def new_function(*args, **kwargs):\n",
        "            result = function(*args, **kwargs)\n",
        "            return result + n\n",
        "        return new_function\n",
        "    return decorator\n",
        "\n",
        "@add(10)\n",
        "def plus(a, b):\n",
        "    return a + b\n",
        "\n",
        "result = plus(10, 20)\n",
        "print(f'result : {result}')"
      ],
      "metadata": {
        "id": "Hrr8k1I83oE7"
      },
      "execution_count": null,
      "outputs": []
    },
    {
      "cell_type": "code",
      "source": [],
      "metadata": {
        "id": "AwLYR2mn3oCk"
      },
      "execution_count": null,
      "outputs": []
    },
    {
      "cell_type": "code",
      "source": [],
      "metadata": {
        "id": "bDBEHp_v3oAW"
      },
      "execution_count": null,
      "outputs": []
    },
    {
      "cell_type": "code",
      "source": [],
      "metadata": {
        "id": "OXcWIs5o3n-U"
      },
      "execution_count": null,
      "outputs": []
    },
    {
      "cell_type": "markdown",
      "source": [
        "# 36번"
      ],
      "metadata": {
        "id": "yXAbuRyAwJJy"
      }
    },
    {
      "cell_type": "code",
      "source": [
        "# 1~9까지의 숫자 중 하나를 입력하면 그 단의 구구단 결과를 한 줄에 출력하는 프로그램을 작성하세요.\n"
      ],
      "metadata": {
        "id": "zlVVdKFMtykb"
      },
      "execution_count": null,
      "outputs": []
    },
    {
      "cell_type": "code",
      "source": [],
      "metadata": {
        "id": "fv5RH_1ityh8"
      },
      "execution_count": null,
      "outputs": []
    },
    {
      "cell_type": "markdown",
      "source": [
        "# 37번\n",
        "* 문제 변경\n"
      ],
      "metadata": {
        "id": "cItIoUvZ5QKY"
      }
    },
    {
      "cell_type": "code",
      "source": [
        "# 1부터 10000까지 8이라는 숫자를 count하라!\n",
        "# count를 할 수 있는 자료형으로 만드는 것이 핵심!\n",
        "# 순회를 돌면서 count는 위 답안이 안풀렸을 때 대안 정도 가능함.\n",
        "str(list(range(10000))).count('8')"
      ],
      "metadata": {
        "id": "V1RJcrU3tygB",
        "colab": {
          "base_uri": "https://localhost:8080/"
        },
        "outputId": "16294d59-9502-4637-8acc-96b8003bbfc6"
      },
      "execution_count": 80,
      "outputs": [
        {
          "output_type": "execute_result",
          "data": {
            "text/plain": [
              "4000"
            ]
          },
          "metadata": {},
          "execution_count": 80
        }
      ]
    },
    {
      "cell_type": "markdown",
      "source": [
        "# 38번\n",
        "```\n",
        "점수입력 : 97 86 75 66 55 97 85 97 97 95\n",
        "\n",
        "출력 : 6\n",
        "```"
      ],
      "metadata": {
        "id": "ozfWgSGu5t_5"
      }
    },
    {
      "cell_type": "code",
      "source": [
        "sorted(map(int, '97 86 75 66 55 97 85 97 97 95'.split(' ')), reverse=True)\n",
        "# str -> list"
      ],
      "metadata": {
        "colab": {
          "base_uri": "https://localhost:8080/"
        },
        "id": "5LRDn1VK9YXb",
        "outputId": "30502fc9-7ff4-43c7-d263-fbced0e777a1"
      },
      "execution_count": 113,
      "outputs": [
        {
          "output_type": "execute_result",
          "data": {
            "text/plain": [
              "[97, 97, 97, 97, 95, 86, 85, 75, 66, 55]"
            ]
          },
          "metadata": {},
          "execution_count": 113
        }
      ]
    },
    {
      "cell_type": "code",
      "source": [
        "sorted(set(map(int, '97 86 75 66 55 97 85 97 97 95'.split(' '))), reverse=True)[3]\n",
        "# 3위 점수"
      ],
      "metadata": {
        "id": "olI2tx1ltydi",
        "colab": {
          "base_uri": "https://localhost:8080/"
        },
        "outputId": "38de2fd6-873e-4589-da7f-312ff3589457"
      },
      "execution_count": 114,
      "outputs": [
        {
          "output_type": "execute_result",
          "data": {
            "text/plain": [
              "85"
            ]
          },
          "metadata": {},
          "execution_count": 114
        }
      ]
    },
    {
      "cell_type": "code",
      "source": [
        "count = 0\n",
        "for i in sorted(map(int, '97 86 75 66 55 97 85 97 97 95'.split(' ')), reverse=True):\n",
        "    if i == sorted(set(map(int, '97 86 75 66 55 97 85 97 97 95'.split(' '))), reverse=True)[3]:\n",
        "        break\n",
        "    else:\n",
        "        count += 1\n",
        "print(count)"
      ],
      "metadata": {
        "id": "BdxQ3C-PtyXK",
        "colab": {
          "base_uri": "https://localhost:8080/"
        },
        "outputId": "276e2acd-da73-4bcc-a6fa-98c1d71b0d1d"
      },
      "execution_count": 115,
      "outputs": [
        {
          "output_type": "stream",
          "name": "stdout",
          "text": [
            "6\n"
          ]
        }
      ]
    },
    {
      "cell_type": "code",
      "source": [
        "# 내 답\n",
        "점수 = '97 86 75 66 55 97 85 97 97 95'\n",
        "count=0\n",
        "점수2 = sorted(set(map(int, 점수.split(' '))), reverse=True)[3]\n",
        "for i in sorted(map(int, 점수.split(' ')), reverse=True):\n",
        "    if i == 점수2:\n",
        "        break\n",
        "    else:\n",
        "        count += 1\n",
        "print(count)\n"
      ],
      "metadata": {
        "id": "XhOQT4RhtyOI",
        "colab": {
          "base_uri": "https://localhost:8080/"
        },
        "outputId": "9d7655a8-9e2e-461a-f920-e8a3a11e9911"
      },
      "execution_count": 116,
      "outputs": [
        {
          "output_type": "stream",
          "name": "stdout",
          "text": [
            "6\n"
          ]
        }
      ]
    },
    {
      "cell_type": "code",
      "source": [
        "# 강사님 답 (1자리 점수가 있을때 오류가 발생)\n",
        "def solution(s):\n",
        "    answer = 0\n",
        "    splitdata = map(int, s.split(' '))\n",
        "    for i in list(reversed(sorted(set(splitdata))))[:3]:\n",
        "        answer += s.count(str(i))\n",
        "    return answer\n",
        "\n",
        "solution('97 86 75 66 55 97 85 97 97 95')"
      ],
      "metadata": {
        "colab": {
          "base_uri": "https://localhost:8080/"
        },
        "id": "ppusCUoT-bMK",
        "outputId": "84c848ee-ccfc-485a-cf10-36fed7f70cb4"
      },
      "execution_count": 118,
      "outputs": [
        {
          "output_type": "execute_result",
          "data": {
            "text/plain": [
              "6"
            ]
          },
          "metadata": {},
          "execution_count": 118
        }
      ]
    },
    {
      "cell_type": "code",
      "source": [
        "def solution(s):\n",
        "    answer = 0\n",
        "    splitdata = list(map(int, s.split(' ')))\n",
        "    for i in list(reversed(sorted(set(splitdata))))[:3]:\n",
        "        for j in list(splitdata):\n",
        "            if i == j:\n",
        "                answer += 1\n",
        "    return answer\n",
        "\n",
        "solution('97 86 75 66 55 97 85 97 97 95')"
      ],
      "metadata": {
        "colab": {
          "base_uri": "https://localhost:8080/"
        },
        "id": "D-IA84YM_hNm",
        "outputId": "f91018b6-4769-40a2-a729-81dba1c77231"
      },
      "execution_count": 119,
      "outputs": [
        {
          "output_type": "execute_result",
          "data": {
            "text/plain": [
              "6"
            ]
          },
          "metadata": {},
          "execution_count": 119
        }
      ]
    },
    {
      "cell_type": "code",
      "source": [
        "# map으로 된 데이터가 왜 한 번만 순회가 되었는지\n",
        "# https://www.notion.so/paullabworkspace/python-zip-b7a1992be7884891a5f1d0a5c0c2df9c?pvs=4\n",
        "\n",
        "def solution(s):\n",
        "    answer = 0\n",
        "    splitdata = map(int, s.split(' '))\n",
        "    for i in list(reversed(sorted(set(splitdata))))[:3]:\n",
        "        print(list(splitdata))\n",
        "        for j in list(splitdata):\n",
        "            if i == j:\n",
        "                answer += 1\n",
        "    return answer\n",
        "\n",
        "solution('97 86 75 66 55 97 85 97 97 95')"
      ],
      "metadata": {
        "colab": {
          "base_uri": "https://localhost:8080/"
        },
        "id": "OuKP1pCM_hLZ",
        "outputId": "4f2999fb-a7cc-47cd-8de7-3ce6b731f672"
      },
      "execution_count": 120,
      "outputs": [
        {
          "output_type": "stream",
          "name": "stdout",
          "text": [
            "[]\n",
            "[]\n",
            "[]\n"
          ]
        },
        {
          "output_type": "execute_result",
          "data": {
            "text/plain": [
              "0"
            ]
          },
          "metadata": {},
          "execution_count": 120
        }
      ]
    },
    {
      "cell_type": "code",
      "source": [
        "import collections\n",
        "\n",
        "collections.Counter('97 86 75 66 55 97 85 97 97 95'.split(' '))"
      ],
      "metadata": {
        "colab": {
          "base_uri": "https://localhost:8080/"
        },
        "id": "wC7xGmNhDUM3",
        "outputId": "ade624ea-1258-4268-cf4b-a50a709ce4ad"
      },
      "execution_count": 121,
      "outputs": [
        {
          "output_type": "execute_result",
          "data": {
            "text/plain": [
              "Counter({'97': 4, '86': 1, '75': 1, '66': 1, '55': 1, '85': 1, '95': 1})"
            ]
          },
          "metadata": {},
          "execution_count": 121
        }
      ]
    },
    {
      "cell_type": "markdown",
      "source": [
        "# 39번\n",
        "\n",
        "```\n",
        "입력 : querty\n",
        "출력 : euerty\n",
        "\n",
        "입력 : hqllo my bamq is hyqwob\n",
        "출력 : hello my bame is hyewob\n",
        "```"
      ],
      "metadata": {
        "id": "IMe9R7vqDIAO"
      }
    },
    {
      "cell_type": "code",
      "source": [
        "'qurety'.replace('q', 'e').replace('b', 'n')"
      ],
      "metadata": {
        "colab": {
          "base_uri": "https://localhost:8080/",
          "height": 36
        },
        "id": "wNnXc-AO_hJK",
        "outputId": "a861dce8-01c5-425c-c179-430363f8323e"
      },
      "execution_count": 133,
      "outputs": [
        {
          "output_type": "execute_result",
          "data": {
            "text/plain": [
              "'eurety'"
            ],
            "application/vnd.google.colaboratory.intrinsic+json": {
              "type": "string"
            }
          },
          "metadata": {},
          "execution_count": 133
        }
      ]
    },
    {
      "cell_type": "code",
      "source": [
        "import re\n",
        "def solution(s):\n",
        "    return re.sub('e', 'q',re.sub('q', 'e', s))\n",
        "solution('hqllo my bamq is hyqwob')"
      ],
      "metadata": {
        "colab": {
          "base_uri": "https://localhost:8080/",
          "height": 36
        },
        "id": "u2ZtY6hA_hG1",
        "outputId": "e22d3a86-5f8e-455b-a666-d2927170447e"
      },
      "execution_count": 136,
      "outputs": [
        {
          "output_type": "execute_result",
          "data": {
            "text/plain": [
              "'hqllo my bamq is hyqwob'"
            ],
            "application/vnd.google.colaboratory.intrinsic+json": {
              "type": "string"
            }
          },
          "metadata": {},
          "execution_count": 136
        }
      ]
    },
    {
      "cell_type": "code",
      "source": [
        "re.sub(r'[qb]', lambda x: 'e' if x.group() == 'q' else 'n', s)"
      ],
      "metadata": {
        "id": "Upb7egGkG7TA"
      },
      "execution_count": null,
      "outputs": []
    },
    {
      "cell_type": "markdown",
      "source": [
        "# 41번\n",
        "- 1과 자기 자신만을 약수로 가지는 수\n"
      ],
      "metadata": {
        "id": "G_ablb48Gu0U"
      }
    },
    {
      "cell_type": "code",
      "source": [
        "for i in range(2, 997):\n",
        "    if 997 % i == 0:\n",
        "        print('소수가 아닙니다!')\n",
        "        break"
      ],
      "metadata": {
        "id": "UhD-9bDo_hEp"
      },
      "execution_count": 137,
      "outputs": []
    },
    {
      "cell_type": "code",
      "source": [
        "def prime_list(n):\n",
        "    # 에라토스테네스의 체 초기화: n개 요소에 True 설정(소수로 간주)\n",
        "    sieve = [True] * n\n",
        "\n",
        "    # n의 최대 약수가 sqrt(n) 이하이므로 i=sqrt(n)까지 검사\n",
        "    m = int(n ** 0.5)\n",
        "    for i in range(2, m + 1):\n",
        "        if sieve[i] == True:           # i가 소수인 경우\n",
        "            for j in range(i+i, n, i): # i이후 i의 배수들을 False 판정\n",
        "                sieve[j] = False\n",
        "\n",
        "    # 소수 목록 산출\n",
        "    return [i for i in range(2, n) if sieve[i] == True]\n",
        "prime_list(100)"
      ],
      "metadata": {
        "colab": {
          "base_uri": "https://localhost:8080/"
        },
        "id": "suca3fjwHKAa",
        "outputId": "2706ec11-20ee-42cc-fd24-8f0382f67478"
      },
      "execution_count": 140,
      "outputs": [
        {
          "output_type": "execute_result",
          "data": {
            "text/plain": [
              "[2,\n",
              " 3,\n",
              " 5,\n",
              " 7,\n",
              " 11,\n",
              " 13,\n",
              " 17,\n",
              " 19,\n",
              " 23,\n",
              " 29,\n",
              " 31,\n",
              " 37,\n",
              " 41,\n",
              " 43,\n",
              " 47,\n",
              " 53,\n",
              " 59,\n",
              " 61,\n",
              " 67,\n",
              " 71,\n",
              " 73,\n",
              " 79,\n",
              " 83,\n",
              " 89,\n",
              " 97]"
            ]
          },
          "metadata": {},
          "execution_count": 140
        }
      ]
    },
    {
      "cell_type": "code",
      "source": [
        "def prime_list(n):\n",
        "    # 에라토스테네스의 체 초기화: n개 요소에 True 설정(소수로 간주)\n",
        "    sieve = [True] * n\n",
        "\n",
        "    # n의 최대 약수가 sqrt(n) 이하이므로 i=sqrt(n)까지 검사\n",
        "    m = int(n ** 0.5)\n",
        "    for i in range(2, m + 1):\n",
        "        if sieve[i] == True:           # i가 소수인 경우\n",
        "            for j in range(i+i, n, i): # i이후 i의 배수들을 False 판정\n",
        "                sieve[j] = False\n",
        "\n",
        "    print(sieve) # 0부터 시작해서 i가 소수인경우 True\n",
        "\n",
        "    # 소수 목록 산출\n",
        "    return [i for i in range(2, n) if sieve[i] == True]\n",
        "\n",
        "prime_list(100)"
      ],
      "metadata": {
        "id": "ou3pRcwoHJ9-"
      },
      "execution_count": null,
      "outputs": []
    },
    {
      "cell_type": "code",
      "source": [],
      "metadata": {
        "id": "F7NNCFLcHJ7-"
      },
      "execution_count": null,
      "outputs": []
    },
    {
      "cell_type": "markdown",
      "source": [
        "# 43번"
      ],
      "metadata": {
        "id": "5QtyxwLxOsac"
      }
    },
    {
      "cell_type": "code",
      "source": [
        "# 음수 변환까지 하려면 좀 더 고려를 해야 합니다.\n",
        "x = 11\n",
        "s = ''\n",
        "while x:\n",
        "    print(x)\n",
        "    s += str(x % 2)\n",
        "    x //= 2\n",
        "s[::-1]\n",
        "\n",
        "#   2   | 11 ... 1\n",
        "#        ---\n",
        "#   2   |  5 ... 1\n",
        "#        ---\n",
        "#   2   |  2 ... 0\n",
        "#        ---\n",
        "#   2   |  1"
      ],
      "metadata": {
        "colab": {
          "base_uri": "https://localhost:8080/",
          "height": 105
        },
        "id": "9EL2Pf7gOsAi",
        "outputId": "c85d9bee-e925-4edc-d53e-5ca89db7492c"
      },
      "execution_count": 152,
      "outputs": [
        {
          "output_type": "stream",
          "name": "stdout",
          "text": [
            "11\n",
            "5\n",
            "2\n",
            "1\n"
          ]
        },
        {
          "output_type": "execute_result",
          "data": {
            "text/plain": [
              "'1011'"
            ],
            "application/vnd.google.colaboratory.intrinsic+json": {
              "type": "string"
            }
          },
          "metadata": {},
          "execution_count": 152
        }
      ]
    },
    {
      "cell_type": "markdown",
      "source": [
        "# 44번\n"
      ],
      "metadata": {
        "id": "d7N7LsTgPm9E"
      }
    },
    {
      "cell_type": "code",
      "source": [
        "# 예를들어\n",
        "# 18234 = 1+8+2+3+4 이고 정답은 18 입니다.\n",
        "# 3849 = 3+8+4+9 이고 정답은 24입니다.\n",
        "\n",
        "\n",
        "n = 1234\n",
        "answer = 0\n",
        "for i in str(n):\n",
        "    answer += int(i)\n",
        "answer"
      ],
      "metadata": {
        "colab": {
          "base_uri": "https://localhost:8080/"
        },
        "id": "fGcFlkreOr-L",
        "outputId": "7172bab1-409d-453e-c8b1-f971e48d1089"
      },
      "execution_count": 154,
      "outputs": [
        {
          "output_type": "execute_result",
          "data": {
            "text/plain": [
              "10"
            ]
          },
          "metadata": {},
          "execution_count": 154
        }
      ]
    },
    {
      "cell_type": "markdown",
      "source": [
        "# 45번"
      ],
      "metadata": {
        "id": "OdEIdvDBP3C-"
      }
    },
    {
      "cell_type": "code",
      "source": [],
      "metadata": {
        "id": "_JgvWe2nOr8G"
      },
      "execution_count": null,
      "outputs": []
    },
    {
      "cell_type": "code",
      "source": [],
      "metadata": {
        "colab": {
          "base_uri": "https://localhost:8080/"
        },
        "id": "q75rp6BSHJ3h",
        "outputId": "aeb6b6f4-ac12-4283-a555-1e04dadd55fd"
      },
      "execution_count": 143,
      "outputs": [
        {
          "output_type": "execute_result",
          "data": {
            "text/plain": [
              "1"
            ]
          },
          "metadata": {},
          "execution_count": 143
        }
      ]
    },
    {
      "cell_type": "markdown",
      "source": [
        "# 48번"
      ],
      "metadata": {
        "id": "-PQb2zeWQuMK"
      }
    },
    {
      "cell_type": "code",
      "source": [
        "# 다시 확인 필요\n",
        "s = 'AAABBBcccddd'\n",
        "answer = ''\n",
        "for i in s:\n",
        "    if s.isupper():\n",
        "        answer += i.lower()\n",
        "    else:\n",
        "        answer += i.upper()\n",
        "answer\n",
        ""
      ],
      "metadata": {
        "colab": {
          "base_uri": "https://localhost:8080/",
          "height": 36
        },
        "id": "4Lq4SBstHJ1c",
        "outputId": "34faedfa-9bd0-40c2-8df1-2fe030d751bf"
      },
      "execution_count": 155,
      "outputs": [
        {
          "output_type": "execute_result",
          "data": {
            "text/plain": [
              "'AAABBBCCCDDD'"
            ],
            "application/vnd.google.colaboratory.intrinsic+json": {
              "type": "string"
            }
          },
          "metadata": {},
          "execution_count": 155
        }
      ]
    },
    {
      "cell_type": "markdown",
      "source": [
        "# 53번\n",
        "괄호 문자열이란 괄호 기호인 '{', '}', '[', ']', '(', ')' 와 같은 것을 말한다. 그 중 괄호의 모양이 바르게 구성 된 문자열을 바른 문자열, 그렇지 않은 문자열을 바르지 않은 문자열이라 부르도록 하자.\n",
        "\n",
        "(())와 같은 문자열은 바른 문자열이지만 ()()) 와 같은 문자열은 바르지 않은 문자열이다.(해당 문제에서는 소괄호만 판별하지만, 실력이 되시는 분들은 중괄호와 대괄호까지 판별해보세요.)\n",
        "\n",
        "입력으로 주어진 괄호 문자열이 바른 문자열인지 바르지 않은 문자열인지 \"YES\"와 \"NO\"로 구분된 문자열을 출력해보자."
      ],
      "metadata": {
        "id": "OSj6uSeXSG4t"
      }
    },
    {
      "cell_type": "code",
      "source": [
        "s1 = '()())'\n",
        "s2 = '(0)'\n",
        "\n",
        "answer = ''\n",
        "\n",
        "for i in s:\n",
        "    if i in '(':\n",
        "        answer += i\n",
        "    elif i in ')':\n",
        "        if not answer or answer[-1] != ')':\n",
        "            print('No')\n",
        "            break\n",
        "\n"
      ],
      "metadata": {
        "id": "9mswqxLmRNoP"
      },
      "execution_count": 165,
      "outputs": []
    },
    {
      "cell_type": "markdown",
      "source": [
        "# 54번\n"
      ],
      "metadata": {
        "id": "rhHT3r5AoFi-"
      }
    },
    {
      "cell_type": "code",
      "source": [
        "\n",
        "s1 = '1 2 3 4 5'\n",
        "s2 = '1 4 2 6 3'\n",
        "def solution(s):\n",
        "    a = sorted(list(map(int, s.split(' '))))\n",
        "    if a == list(range(min(a), max(a)+1)):\n",
        "        return 'YES'\n",
        "    else:\n",
        "        return 'NO'\n",
        "\n",
        "solution(s1)\n"
      ],
      "metadata": {
        "colab": {
          "base_uri": "https://localhost:8080/"
        },
        "id": "7xpAtRzsoGwD",
        "outputId": "3820d779-6d96-4cb7-f872-4296ebc5e21e"
      },
      "execution_count": 168,
      "outputs": [
        {
          "output_type": "execute_result",
          "data": {
            "text/plain": [
              "[1, 2, 3, 4, 5]"
            ]
          },
          "metadata": {},
          "execution_count": 168
        }
      ]
    },
    {
      "cell_type": "markdown",
      "source": [
        "# 55번"
      ],
      "metadata": {
        "id": "o1-neoH2rEU2"
      }
    },
    {
      "cell_type": "markdown",
      "source": [
        "재귀로 풉니다.\n",
        "\n",
        "한쪽 기둥에서 다른 마지막 기둥으로 모두 옮기는 것이 중요합니다."
      ],
      "metadata": {
        "id": "R0hcJh0Mteim"
      }
    },
    {
      "cell_type": "code",
      "source": [],
      "metadata": {
        "id": "eOZZj4neteSD"
      },
      "execution_count": null,
      "outputs": []
    },
    {
      "cell_type": "code",
      "source": [
        "# [[A, C], [A, B] c,b a,c b,a b,c a,c]]\n",
        "원판의이동경로 = []\n",
        "def 하노이(원반의수, 시작기둥, 목표기둥, 보조기둥):\n",
        "    #원판이 한개일 때에는 옮기면 됩니다.\n",
        "    if 원반의수 == 1:\n",
        "        원판의이동경로.append([시작기둥, 목표기둥])\n",
        "        return None\n",
        "    #원반의 n-1개를 경유기둥으로 옮기고\n",
        "    하노이(원반의수 - 1, 시작기둥, 보조기둥, 목표기둥)\n",
        "    #가장 큰 원반은 목표기둥으로\n",
        "    원판의이동경로.append([시작기둥, 목표기둥])\n",
        "    #경유기둥과 시작기둥을 바꿉니다!\n",
        "    하노이(원반의수 - 1, 보조기둥, 목표기둥, 시작기둥)\n",
        "\n",
        "하노이(3, 'A','C','B')\n",
        "\n",
        "print(len(원판의이동경로))\n",
        "원판의이동경로"
      ],
      "metadata": {
        "colab": {
          "base_uri": "https://localhost:8080/"
        },
        "id": "waiwXEmtpMGE",
        "outputId": "c2dfb5d2-97a9-466d-8155-efcad573dccf"
      },
      "execution_count": 188,
      "outputs": [
        {
          "output_type": "stream",
          "name": "stdout",
          "text": [
            "7\n"
          ]
        },
        {
          "output_type": "execute_result",
          "data": {
            "text/plain": [
              "[['A', 'C'],\n",
              " ['A', 'B'],\n",
              " ['C', 'B'],\n",
              " ['A', 'C'],\n",
              " ['B', 'A'],\n",
              " ['B', 'C'],\n",
              " ['A', 'C']]"
            ]
          },
          "metadata": {},
          "execution_count": 188
        }
      ]
    },
    {
      "cell_type": "markdown",
      "source": [
        "# 56번\n",
        "\n",
        "다음의 딕셔너리가 주어졌을 때 한국의 면적과 가장 비슷한 국가와 그 차이를 출력하세요.\n",
        "\n",
        "\n",
        "```\n",
        "데이터\n",
        "nationWidth = {\n",
        "     'korea': 220877,\n",
        "     'Rusia': 17098242,\n",
        "     'China': 9596961,\n",
        "     'France': 543965,\n",
        "     'Japan': 377915,\n",
        "     'England' : 242900 }\n",
        "\n",
        "출력\n",
        "England 22023\n",
        "```"
      ],
      "metadata": {
        "id": "-mcRKaLqxRKO"
      }
    },
    {
      "cell_type": "code",
      "source": [
        "nationWidth = {\n",
        "     'korea': 220877,\n",
        "     'Rusia': 17098242,\n",
        "     'China': 9596961,\n",
        "     'France': 543965,\n",
        "     'Japan': 377915,\n",
        "     'England' : 242900 }\n",
        "\n",
        "a = nationWidth['korea']\n",
        "nationWidth.pop('korea')\n",
        "gap = float('inf')\n",
        "answer = ''\n",
        "for nation, value in nationWidth.items():\n",
        "    if abs(a - value) < gap:\n",
        "        gap = abs(a - value)\n",
        "        answer = nation\n",
        "\n",
        "print(answer, gap)"
      ],
      "metadata": {
        "colab": {
          "base_uri": "https://localhost:8080/"
        },
        "id": "JNqfZU0-rFmx",
        "outputId": "73351c7b-a67d-4e93-d131-1a44d8a0fd6e"
      },
      "execution_count": 208,
      "outputs": [
        {
          "output_type": "stream",
          "name": "stdout",
          "text": [
            "England 22023\n"
          ]
        }
      ]
    },
    {
      "cell_type": "code",
      "source": [
        "nationWidth = {\n",
        "     'Rusia': 17098242,\n",
        "     'China': 9596961,\n",
        "     'France': 543965,\n",
        "     'Japan': 377915,\n",
        "     'England' : 242900 }\n",
        "\n",
        "def f(key):\n",
        "    return [nationWidth[key] - 220877, key]\n",
        "min(map(f, nationWidth))"
      ],
      "metadata": {
        "colab": {
          "base_uri": "https://localhost:8080/"
        },
        "id": "BTrAu7BH677f",
        "outputId": "6515774c-939d-45b8-b378-fbe247af7cb7"
      },
      "execution_count": 269,
      "outputs": [
        {
          "output_type": "execute_result",
          "data": {
            "text/plain": [
              "[22023, 'England']"
            ]
          },
          "metadata": {},
          "execution_count": 269
        }
      ]
    },
    {
      "cell_type": "code",
      "source": [
        "nationWidth = {\n",
        "     'Rusia': 17098242,\n",
        "     'China': 9596961,\n",
        "     'France': 543965,\n",
        "     'Japan': 377915,\n",
        "     'England' : 242900 }\n",
        "\n",
        "min(map(lambda key: [nationWidth[key] - 220877, key], nationWidth))[1]"
      ],
      "metadata": {
        "colab": {
          "base_uri": "https://localhost:8080/",
          "height": 36
        },
        "id": "Pnp0d1QN8N0-",
        "outputId": "99654095-f5e4-4349-9f98-81816b21126b"
      },
      "execution_count": 274,
      "outputs": [
        {
          "output_type": "execute_result",
          "data": {
            "text/plain": [
              "'England'"
            ],
            "application/vnd.google.colaboratory.intrinsic+json": {
              "type": "string"
            }
          },
          "metadata": {},
          "execution_count": 274
        }
      ]
    },
    {
      "cell_type": "markdown",
      "source": [
        "# 57번\n",
        "\n",
        "0부터 1000까지 1의 개수를 세는 프로그램을 만들려고 합니다. 예를 들어 0부터 20까지 1의 개수를 세어본다면 1, 10 11, 12, 13, 14, 15, 16, 17, 18, 19 에 각각 1이 들어가므로 12개의 1이 있게 됩니다. 11은 1이 2번 들어간 셈이죠.\n",
        "\n",
        "그렇다면 0부터 1000까지 수에서 1은 몇번이나 들어갔을까요? 출력해주세요!"
      ],
      "metadata": {
        "id": "R0HrMmMmz7Mb"
      }
    },
    {
      "cell_type": "code",
      "source": [
        "str(list(range(0, 1001))).count('1')"
      ],
      "metadata": {
        "colab": {
          "base_uri": "https://localhost:8080/"
        },
        "id": "AkfaJ-VhrFpE",
        "outputId": "d5a32415-41c1-44bf-beff-95d153f0abfb"
      },
      "execution_count": 210,
      "outputs": [
        {
          "output_type": "execute_result",
          "data": {
            "text/plain": [
              "301"
            ]
          },
          "metadata": {},
          "execution_count": 210
        }
      ]
    },
    {
      "cell_type": "markdown",
      "source": [
        "# 58번\n",
        "\n",
        "원범이는 편의점 아르바이트가 끝난 후 정산을 하고자 합니다.\n",
        "정산을 빨리하고 집에가고 싶은 원범이는 프로그램을 만들려고 합니다.\n",
        "\n",
        "숫자를 입력 받고 천단위로 콤마(,)를 찍어주세요.\n",
        "\n",
        "예를들어, 123456789를 입력받았으면 123,456,789 를 출력해야합니다."
      ],
      "metadata": {
        "id": "tpchlrxp0ayF"
      }
    },
    {
      "cell_type": "code",
      "source": [
        "format(123456789, ',')\n"
      ],
      "metadata": {
        "colab": {
          "base_uri": "https://localhost:8080/",
          "height": 36
        },
        "id": "keDoofhtrFuF",
        "outputId": "26f1ca22-6d8e-4c5b-b0db-3d36fa1ee6bb"
      },
      "execution_count": 255,
      "outputs": [
        {
          "output_type": "execute_result",
          "data": {
            "text/plain": [
              "'123,456,789'"
            ],
            "application/vnd.google.colaboratory.intrinsic+json": {
              "type": "string"
            }
          },
          "metadata": {},
          "execution_count": 255
        }
      ]
    },
    {
      "cell_type": "code",
      "source": [
        "list(str(123456789))"
      ],
      "metadata": {
        "colab": {
          "base_uri": "https://localhost:8080/"
        },
        "id": "HXTZSPYs6iCo",
        "outputId": "d6eef9d4-4476-43cc-a5a1-bb07f64ffaeb"
      },
      "execution_count": 260,
      "outputs": [
        {
          "output_type": "execute_result",
          "data": {
            "text/plain": [
              "['1', '2', '3', '4', '5', '6', '7', '8', '9']"
            ]
          },
          "metadata": {},
          "execution_count": 260
        }
      ]
    },
    {
      "cell_type": "markdown",
      "source": [
        "# 59번\n",
        "\n",
        "총 문자열의 길이는 50으로 제한하고 사용자가 문자열을 입력하면 그 문자열을 가운데 정렬을 해주고, 나머지 빈 부분에는 '='을 채워넣어주세요.\n",
        "\n",
        "```\n",
        "입력\n",
        "hi\n",
        "\n",
        "출력\n",
        "========================hi========================\n",
        "```"
      ],
      "metadata": {
        "id": "zCUEOWBb6A99"
      }
    },
    {
      "cell_type": "code",
      "source": [
        "userinput = input()\n",
        "print(\"{0:=^50}\".format(user_input))"
      ],
      "metadata": {
        "colab": {
          "base_uri": "https://localhost:8080/"
        },
        "id": "zFb-ugGt45w4",
        "outputId": "10708d45-8491-4b36-ce01-f493077a5b60"
      },
      "execution_count": 276,
      "outputs": [
        {
          "output_type": "stream",
          "name": "stdout",
          "text": [
            "hi\n",
            "========================hi========================\n"
          ]
        }
      ]
    },
    {
      "cell_type": "code",
      "source": [
        "userinput = 'hi'\n",
        "print(f'{userinput:=<50}')"
      ],
      "metadata": {
        "colab": {
          "base_uri": "https://localhost:8080/"
        },
        "id": "DOpb3ZRf45u6",
        "outputId": "aed1a843-2e29-4837-d96a-81dbbb7966ab"
      },
      "execution_count": 282,
      "outputs": [
        {
          "output_type": "stream",
          "name": "stdout",
          "text": [
            "hi================================================\n"
          ]
        }
      ]
    },
    {
      "cell_type": "code",
      "source": [
        "print(f'{userinput:=>50}')\n"
      ],
      "metadata": {
        "colab": {
          "base_uri": "https://localhost:8080/"
        },
        "id": "f_oXnPfP45so",
        "outputId": "2128836e-6759-4c51-d196-cf2a2d0901a7"
      },
      "execution_count": 283,
      "outputs": [
        {
          "output_type": "stream",
          "name": "stdout",
          "text": [
            "================================================hi\n"
          ]
        }
      ]
    },
    {
      "cell_type": "code",
      "source": [
        "print(f'{userinput:=^50}')\n"
      ],
      "metadata": {
        "colab": {
          "base_uri": "https://localhost:8080/"
        },
        "id": "g4G5piGF45qz",
        "outputId": "7eec5cea-adfe-4765-e00d-b33b0f06f326"
      },
      "execution_count": 284,
      "outputs": [
        {
          "output_type": "stream",
          "name": "stdout",
          "text": [
            "========================hi========================\n"
          ]
        }
      ]
    },
    {
      "cell_type": "markdown",
      "source": [
        "# 60번\n",
        "\n",
        "새학기가 되어 이름을 가나다 순서대로 배정하고 번호를 매기려고 합니다.\n",
        "\n",
        "코드에 입력된 이름을 아래와 같이 출력해주세요."
      ],
      "metadata": {
        "id": "eG0cWzuf-mTa"
      }
    },
    {
      "cell_type": "code",
      "source": [
        "student = ['강은지','김유정','박현서','최성훈','홍유진','박지호','권윤일','김채리','한지호','김진이','김민호','강채연']\n",
        "\n",
        "for i, j in enumerate(sorted(student)):\n",
        "    print(f'번호: {i+1}, 이름: {j}')"
      ],
      "metadata": {
        "colab": {
          "base_uri": "https://localhost:8080/"
        },
        "id": "Z7YMJRja45oD",
        "outputId": "082dabe6-bd7f-48f4-ee85-b66827db8860"
      },
      "execution_count": 289,
      "outputs": [
        {
          "output_type": "stream",
          "name": "stdout",
          "text": [
            "번호: 1, 이름: 강은지\n",
            "번호: 2, 이름: 강채연\n",
            "번호: 3, 이름: 권윤일\n",
            "번호: 4, 이름: 김민호\n",
            "번호: 5, 이름: 김유정\n",
            "번호: 6, 이름: 김진이\n",
            "번호: 7, 이름: 김채리\n",
            "번호: 8, 이름: 박지호\n",
            "번호: 9, 이름: 박현서\n",
            "번호: 10, 이름: 최성훈\n",
            "번호: 11, 이름: 한지호\n",
            "번호: 12, 이름: 홍유진\n"
          ]
        }
      ]
    },
    {
      "cell_type": "markdown",
      "source": [
        "# 61번\n",
        "문자열을 입력받고 연속되는 문자열을 압축해서 표현하고싶습니다.\n",
        "```\n",
        "입력\n",
        "aaabbbbcdddd\n",
        "\n",
        "출력\n",
        "a3b4c1d4\n",
        "\n",
        "```"
      ],
      "metadata": {
        "id": "rrMSq3rJ_qBi"
      }
    },
    {
      "cell_type": "code",
      "source": [
        "collections.Counter('aaabbbbcdddd').items()"
      ],
      "metadata": {
        "colab": {
          "base_uri": "https://localhost:8080/"
        },
        "id": "v3OqkK_x_31A",
        "outputId": "3336cba4-2655-498d-aaea-494170425503"
      },
      "execution_count": 292,
      "outputs": [
        {
          "output_type": "execute_result",
          "data": {
            "text/plain": [
              "dict_items([('a', 3), ('b', 4), ('c', 1), ('d', 4)])"
            ]
          },
          "metadata": {},
          "execution_count": 292
        }
      ]
    },
    {
      "cell_type": "code",
      "source": [
        "from collections import Counter\n",
        "answer =''\n",
        "for key, value in Counter('aaabbbbcdddd').items():\n",
        "    answer += key\n",
        "    answer += str(value)\n",
        "answer"
      ],
      "metadata": {
        "colab": {
          "base_uri": "https://localhost:8080/",
          "height": 36
        },
        "id": "YZoZGFd_-2x4",
        "outputId": "4bc345b1-e3ce-4d9f-dcee-4432eb18327c"
      },
      "execution_count": 307,
      "outputs": [
        {
          "output_type": "execute_result",
          "data": {
            "text/plain": [
              "'a3b4c1d4'"
            ],
            "application/vnd.google.colaboratory.intrinsic+json": {
              "type": "string"
            }
          },
          "metadata": {},
          "execution_count": 307
        }
      ]
    },
    {
      "cell_type": "code",
      "source": [
        "from collections import Counter\n",
        "s = \"aaabbbbcdddd\"\n",
        "\"\".join([str(i) + str(Counter(s)[i]) for i in Counter(s)])"
      ],
      "metadata": {
        "colab": {
          "base_uri": "https://localhost:8080/",
          "height": 36
        },
        "id": "X2G3Rv5LD1OB",
        "outputId": "530d0dfe-bb45-4397-ce36-c1ab6372478c"
      },
      "execution_count": 306,
      "outputs": [
        {
          "output_type": "execute_result",
          "data": {
            "text/plain": [
              "'a3b4c1d4'"
            ],
            "application/vnd.google.colaboratory.intrinsic+json": {
              "type": "string"
            }
          },
          "metadata": {},
          "execution_count": 306
        }
      ]
    },
    {
      "cell_type": "code",
      "source": [
        "# 입력\n",
        "# aaabbbbcddddaaabbbbcdddd\n",
        "\n",
        "# 출력\n",
        "# a3b4c1d4a3b4c1d4\n",
        "\n",
        "s = 'aaabbbbcddddaaabbbbcdddd'\n",
        "answer = ''\n",
        "count = 0\n",
        "pre = s[0]\n",
        "for i in s:\n",
        "    # print(pre, i)\n",
        "    if pre == i:\n",
        "        count += 1\n",
        "    else:\n",
        "        answer += pre + str(count)\n",
        "        pre = i\n",
        "        count = 1\n",
        "\n",
        "answer += pre + str(count)\n",
        "\n",
        "answer\n"
      ],
      "metadata": {
        "colab": {
          "base_uri": "https://localhost:8080/",
          "height": 36
        },
        "id": "awAVCBMVFHsM",
        "outputId": "21f32dc5-4041-4c6c-b911-da2429293b0d"
      },
      "execution_count": 309,
      "outputs": [
        {
          "output_type": "execute_result",
          "data": {
            "text/plain": [
              "'a3b4c1d4a3b4c1d4'"
            ],
            "application/vnd.google.colaboratory.intrinsic+json": {
              "type": "string"
            }
          },
          "metadata": {},
          "execution_count": 309
        }
      ]
    },
    {
      "cell_type": "code",
      "source": [
        "re.findall('(\\\\w)(\\\\1*)', s)"
      ],
      "metadata": {
        "colab": {
          "base_uri": "https://localhost:8080/"
        },
        "id": "V4d7gwqiHlzd",
        "outputId": "90cb9493-09d2-4aa5-8869-21a422b30532"
      },
      "execution_count": 319,
      "outputs": [
        {
          "output_type": "execute_result",
          "data": {
            "text/plain": [
              "[('a', 'aa'),\n",
              " ('b', 'bbb'),\n",
              " ('c', ''),\n",
              " ('d', 'ddd'),\n",
              " ('a', 'aa'),\n",
              " ('b', 'bbb'),\n",
              " ('c', ''),\n",
              " ('d', 'ddd')]"
            ]
          },
          "metadata": {},
          "execution_count": 319
        }
      ]
    },
    {
      "cell_type": "code",
      "source": [
        "import re\n",
        "\n",
        "s = 'aaabbbbcddddaaabbbbcdddd'\n",
        "answer =''\n",
        "for i in re.findall('(\\\\w)(\\\\1*)', s):\n",
        "    answer += i[0] + str(len(i[1])+1)\n",
        "answer"
      ],
      "metadata": {
        "colab": {
          "base_uri": "https://localhost:8080/",
          "height": 36
        },
        "id": "otFjvTihGY0L",
        "outputId": "d7a7b844-a6e6-42c7-9b0d-c07308bafee8"
      },
      "execution_count": 315,
      "outputs": [
        {
          "output_type": "execute_result",
          "data": {
            "text/plain": [
              "'a3b4c1d4a3b4c1d4'"
            ],
            "application/vnd.google.colaboratory.intrinsic+json": {
              "type": "string"
            }
          },
          "metadata": {},
          "execution_count": 315
        }
      ]
    },
    {
      "cell_type": "markdown",
      "source": [
        "# 62번\n",
        "\n",
        "`20190923`을 출력합니다.  아래 기준만 만족하면 됩니다.\n",
        "\n",
        "1. 코드 내에 숫자가 없어야 합니다.\n",
        "    - 예) print(20190923)이라고 하시면 안됩니다.\n",
        "2. 파일 이름이나 경로를 사용해서는 안됩니다.\n",
        "3. 시간, 날짜 함수를 사용해서는 안됩니다.\n",
        "4. 에러 번호 출력을 이용해서는 안됩니다.\n",
        "5. input을 이용해서는 안됩니다."
      ],
      "metadata": {
        "id": "kEpQRrOpCFw_"
      }
    },
    {
      "cell_type": "code",
      "source": [
        "string='aacddddddddd'\n",
        "a=string.count('a') #2\n",
        "b=string.count('b') #0\n",
        "c=string.count('c') #1\n",
        "d=string.count('d') #9\n",
        "print(int(str(a)+str(b)+str(c)+str(d)+str(b)+str(d)+str(a)+str(a+1)))"
      ],
      "metadata": {
        "colab": {
          "base_uri": "https://localhost:8080/"
        },
        "id": "HnPBftQdCFLi",
        "outputId": "690d227c-c03f-4342-b6e1-41a377223e2f"
      },
      "execution_count": 308,
      "outputs": [
        {
          "output_type": "stream",
          "name": "stdout",
          "text": [
            "20190923\n"
          ]
        }
      ]
    },
    {
      "cell_type": "markdown",
      "source": [
        "# 63번\n",
        "\n",
        "한국대학교의 김한국교수님은 학생들과 친해지기 위해서 딸에게 줄임말을 배우기로 했습니다.\n",
        "딸은 '복잡한 세상 편하게 살자' 라는 문장을 '복세편살'로 줄여 말합니다.\n",
        "\n",
        "교수님이 줄임말을 배우기 위해 위와 같이 어떤 입력이 주어지면 앞 글자만 줄여 출력하도록 해주세요.\n",
        "\n",
        "```\n",
        "입력 - 입력은 한글 혹은 영어로 입력됩니다.\n",
        "복잡한 세상 편하게 살자\n",
        "\n",
        "\n",
        "출력 - 띄어쓰기를 기준으로 하여 짧은 형태로 출력합니다.\n",
        "복세편살\n",
        "\n",
        "```"
      ],
      "metadata": {
        "id": "ghRMxPjqERSU"
      }
    },
    {
      "cell_type": "code",
      "source": [
        "\n",
        "user_input = '복잡한 세상 편하게 살자'.split(' ')\n",
        "#print(user_input)\n",
        "result = ''\n",
        "\n",
        "for s in user_input:\n",
        "    result += s[0]\n",
        "\n",
        "print(result)"
      ],
      "metadata": {
        "colab": {
          "base_uri": "https://localhost:8080/"
        },
        "id": "Y8WQ2_wiDIFd",
        "outputId": "3ab70ff3-0101-492d-cdc7-ac47fa134697"
      },
      "execution_count": 327,
      "outputs": [
        {
          "output_type": "stream",
          "name": "stdout",
          "text": [
            "복세편살\n"
          ]
        }
      ]
    },
    {
      "cell_type": "markdown",
      "source": [
        "# 65번\n",
        "\n",
        "```\n",
        "a = [1,2,3,4]\n",
        "b = [a,b,c,d]\n",
        "이런 리스트가 있을 때 [[1,a],[b,2],[3,c],[d,4]] 이런식으로 a,b리스트가 번갈아가면서 출력되게 해주세요.\n",
        "\n",
        "```"
      ],
      "metadata": {
        "id": "yATmMBm3IkI_"
      }
    },
    {
      "cell_type": "code",
      "source": [
        "\n",
        "a = [1, 2,3, 4]\n",
        "b = ['a', 'b', 'c', 'd']\n",
        "\n",
        "count = 0\n",
        "answer = []\n",
        "for i, j in zip(a, b):\n",
        "    count += 1\n",
        "    if count % 2 == 0:\n",
        "        answer.append([j, i])\n",
        "    else:\n",
        "        answer.append([i, j])\n",
        "answer\n"
      ],
      "metadata": {
        "colab": {
          "base_uri": "https://localhost:8080/"
        },
        "id": "lEDzv1J1H4VG",
        "outputId": "1b91d8aa-a68c-4448-eeb7-6738df821e1e"
      },
      "execution_count": 337,
      "outputs": [
        {
          "output_type": "execute_result",
          "data": {
            "text/plain": [
              "[[1, 'a'], ['b', 2], [3, 'c'], ['d', 4]]"
            ]
          },
          "metadata": {},
          "execution_count": 337
        }
      ]
    },
    {
      "cell_type": "markdown",
      "source": [
        "# 66번\n",
        "\n",
        "탑을 쌓기 위해 각 크기별로 준비된 블럭들을 정해진 순서에 맞게 쌓아햐 합니다.\n",
        "순서에 맞게 쌓지 않으면 무너질 수 있습니다.\n",
        "예를 들면 정해진 순서가 BAC 라면 A 다음 C가 쌓아져야 합니다.\n",
        "선행으로 쌓아야 하는 블럭이 만족된 경우라면 탑이 무너지지 않습니다.\n",
        "\n",
        "- B를 쌓지 않아도 A와 C를 쌓을 수 있습니다.\n",
        "- B 다음 블럭이 C가 될 수 있습니다.\n",
        "\n",
        "쌓아져 있는 블럭 탑이 순서에 맞게 쌓아져 있는지 확인하세요.\n",
        "\n",
        "1. 블럭은 알파벳 대문자로 표기합니다.\n",
        "2. 규칙에 없는 블럭이 사용될 수 있습니다.\n",
        "3. 중복된 블럭은 존재하지 않습니다.\n",
        "\n",
        "```\n",
        "입력\n",
        "탑 = [\"ABCDEF\", \"BCAD\", \"ADEFQRX\", \"BEDFG\"]\n",
        "규칙 = \"ABD\"\n",
        "\n",
        "출력\n",
        "[\"가능\",\"불가능\",\"가능\",\"가능]\n",
        "```"
      ],
      "metadata": {
        "id": "CLp3cW5K52wW"
      }
    },
    {
      "cell_type": "code",
      "source": [
        "# 첫번째 풀이 (박재혁)\n",
        "탑 = [\"ABCDEF\", \"BCAD\", \"ADEFQRX\", \"BEDFG\"]\n",
        "규칙 = \"ABD\"\n",
        "\n",
        "answer = []\n",
        "\n",
        "for t in 탑:\n",
        "    규칙인덱스 = [t.index(rule) for rule in 규칙 if rule in t]\n",
        "    if 규칙인덱스 == sorted(규칙인덱스):\n",
        "        answer.append('가능')\n",
        "    else:\n",
        "        answer.append('불가능')\n",
        "\n",
        "print(answer)"
      ],
      "metadata": {
        "colab": {
          "base_uri": "https://localhost:8080/"
        },
        "id": "q7VSW5uNWonI",
        "outputId": "5870bbe7-5d5c-4cce-9a32-8627a765b6da"
      },
      "execution_count": 11,
      "outputs": [
        {
          "output_type": "stream",
          "name": "stdout",
          "text": [
            "['가능', '불가능', '가능', '가능']\n"
          ]
        }
      ]
    },
    {
      "cell_type": "code",
      "source": [
        "# 두번째 풀이 (김태호)\n",
        "input = [\"ABCDEF\", \"BCAD\", \"ADEFQRX\", \"BEDFG\"]\n",
        "rule = \"ABD\"\n",
        "\n",
        "rule = list(rule)\n",
        "result = list(map(lambda x: [x.find(r) for r in rule if x.find(r) != -1], input))\n",
        "list(map(lambda x: '가능' if all(x[i] < x[i+1] for i in range(len(x)-1)) else '불가능', result))"
      ],
      "metadata": {
        "colab": {
          "base_uri": "https://localhost:8080/"
        },
        "id": "oNc3tC9NH4Q9",
        "outputId": "03712352-aad2-4def-cbb2-13bcbb36278f"
      },
      "execution_count": 12,
      "outputs": [
        {
          "output_type": "execute_result",
          "data": {
            "text/plain": [
              "['가능', '불가능', '가능', '가능']"
            ]
          },
          "metadata": {},
          "execution_count": 12
        }
      ]
    },
    {
      "cell_type": "code",
      "source": [
        "# 쉬운풀이\n",
        "string = [\"ABCDEF\", \"BCAD\", \"ADEFQRX\", \"BEDFG\"]\n",
        "rule = \"ABD\"\n",
        "\n",
        "def solution(s, rule):\n",
        "    temp = 0\n",
        "    for i in s: #i:'D', s:\"ABCDEF\"\n",
        "        if i in rule:\n",
        "            if temp > rule.index(i): # rule.index(i): 문자가 rule에 있다면 몇 번째에 있는지(1 > 3)\n",
        "                return '불가능'\n",
        "            temp = rule.index(i)\n",
        "    return '가능'\n",
        "\n",
        "solution(string[3], rule)\n"
      ],
      "metadata": {
        "colab": {
          "base_uri": "https://localhost:8080/"
        },
        "id": "o3IbTvzfH4Mo",
        "outputId": "9b01c4e3-357b-406e-da21-d4b26c05e177"
      },
      "execution_count": 14,
      "outputs": [
        {
          "output_type": "stream",
          "name": "stdout",
          "text": [
            "[0, 1, 3]\n",
            "[2, 0, 3]\n",
            "[0, 1]\n",
            "[0, 2]\n"
          ]
        }
      ]
    },
    {
      "cell_type": "markdown",
      "source": [
        "# 67번\n",
        "\n"
      ],
      "metadata": {
        "id": "KmYyDIuhIJvl"
      }
    },
    {
      "cell_type": "code",
      "source": [
        "# 2명 - [a,b] 1번\n",
        "# 3명 - [a, b], [a,c],[b,c] 3번\n",
        "# 조합 (2명이 들어가는 조합)\n",
        "\n"
      ],
      "metadata": {
        "id": "mS7CaxgnH4KE"
      },
      "execution_count": null,
      "outputs": []
    },
    {
      "cell_type": "code",
      "source": [
        "from itertools import combinations\n",
        "\n",
        "n = 4\n",
        "nums = range(n)\n",
        "combi = list(combinations(nums, 2))\n",
        "combi"
      ],
      "metadata": {
        "colab": {
          "base_uri": "https://localhost:8080/"
        },
        "id": "jjbUWaJyIkPw",
        "outputId": "14bc7edb-a942-4e5c-eac8-ee36c7ceb0ec"
      },
      "execution_count": 19,
      "outputs": [
        {
          "output_type": "execute_result",
          "data": {
            "text/plain": [
              "[(0, 1), (0, 2), (0, 3), (1, 2), (1, 3), (2, 3)]"
            ]
          },
          "metadata": {},
          "execution_count": 19
        }
      ]
    },
    {
      "cell_type": "code",
      "source": [
        "from itertools import combinations\n",
        "\n",
        "n = 11\n",
        "nums = range(n)\n",
        "combi = list(combinations(nums, 2))\n",
        "59 - len(combi)"
      ],
      "metadata": {
        "colab": {
          "base_uri": "https://localhost:8080/"
        },
        "id": "2cZ50giuIkMH",
        "outputId": "dc63d485-b4d0-4bc8-a022-a8901006bbf9"
      },
      "execution_count": 21,
      "outputs": [
        {
          "output_type": "execute_result",
          "data": {
            "text/plain": [
              "4"
            ]
          },
          "metadata": {},
          "execution_count": 21
        }
      ]
    },
    {
      "cell_type": "markdown",
      "source": [
        "# 68번 (풀기)\n",
        "\n",
        "학교가 끝난 지원이는 집에 가려고 합니다. 학교 앞에 있는 버스 시간표는 너무 복잡해서 버스 도착시간이 몇 분 남았는지 알려주는 프로그램을 만들고 싶습니다.\n",
        "버스시간표와 현재 시간이 주어졌을 때 버스 도착 시간이 얼마나 남았는지 알려주는 프로그램을 만들어주세요.\n",
        "\n",
        "- 버스 시간표와 현재시간이 입력으루 주어집니다.\n",
        "- 출력 포맷은 \"00시00분\"입니다.\n",
        "   만약 1시간 3분이 남았다면 \"01시간03분\"으로 출력해야 합니다.\n",
        "- 버스 시간표에 현재 시간보다 이전인 버스가 있다면 \"지나갔습니다.\"라고 출력합니다.\n",
        "\n",
        "```\n",
        "입력\n",
        "[\"12:30\", \"13:20\", \"14:13\"]\n",
        "\"12:40\"\n",
        "\n",
        "\n",
        "출력\n",
        "['지나갔습니다', '0시간 40분', '1시간 33분']**굵은 텍스트**\n",
        "\n",
        "```"
      ],
      "metadata": {
        "id": "qfc_ykbMKPBI"
      }
    },
    {
      "cell_type": "code",
      "source": [],
      "metadata": {
        "id": "j_jmnUEwIkIG"
      },
      "execution_count": null,
      "outputs": []
    },
    {
      "cell_type": "code",
      "source": [],
      "metadata": {
        "id": "QVcrn4RzIkFk"
      },
      "execution_count": null,
      "outputs": []
    },
    {
      "cell_type": "markdown",
      "source": [
        "# 69번 (풀기)"
      ],
      "metadata": {
        "id": "5uZvjDMVKYbb"
      }
    },
    {
      "cell_type": "code",
      "source": [],
      "metadata": {
        "id": "ZSKLzsKIIkCr"
      },
      "execution_count": null,
      "outputs": []
    },
    {
      "cell_type": "code",
      "source": [],
      "metadata": {
        "id": "Q2p1Ay_SIj-o"
      },
      "execution_count": null,
      "outputs": []
    },
    {
      "cell_type": "markdown",
      "source": [
        "# 70번 (풀기)\n"
      ],
      "metadata": {
        "id": "bofCDMppKgH4"
      }
    },
    {
      "cell_type": "code",
      "source": [],
      "metadata": {
        "id": "BkrYgV9dK9Io"
      },
      "execution_count": null,
      "outputs": []
    },
    {
      "cell_type": "code",
      "source": [],
      "metadata": {
        "id": "-1hKwb6JK9iA"
      },
      "execution_count": null,
      "outputs": []
    },
    {
      "cell_type": "markdown",
      "source": [
        "# 문제71 : 깊이 우선 탐색"
      ],
      "metadata": {
        "id": "M2JyOpjuK_-H"
      }
    },
    {
      "cell_type": "markdown",
      "source": [
        "**깊이 우선 탐색**이란 목표한 노드를 찾기 위해 가장 우선순위가 높은 노드의 자식으로 깊이 들어 갔다가 목표 노드가 존재하지 않으면 처음 방문한 노드와 연결된 다른 노드부터 그 자식 노드로 파고드는 검색 방법을 말합니다.\n",
        "\n",
        "\n",
        "다음과 같이 리스트 형태로 노드들의 연결 관계가 주어진다고 할 때 깊이 우선 탐색으로 이 노드들을 탐색했을 때의 순서를 공백으로 구분하여 출력하는 프로그램을 완성하세요.\n",
        "\n",
        "1. **빨간색으로 Pass라고 되어 있는 부분을 완성**해주세요.\n",
        "\n",
        "2. **깊이 우선 탐색을 오른쪽, 왼쪽 둘 다 구현**해보세요.\n",
        "\n",
        "3. **리스트**로도 구현해보세요.\n",
        "\n",
        "```\n",
        "1. 데이터\n",
        "\n",
        "graph = {'E': set(['D', 'A']),\n",
        "         'F': set(['D']),\n",
        "         'A': set(['E', 'C', 'B']),\n",
        "         'B': set(['A']),\n",
        "         'C': set(['A']),\n",
        "         'D': set(['E','F'])}\n",
        "\n",
        "2. 출력\n",
        "['E', 'A', 'B', 'C', 'D', 'F']\n",
        "\n",
        "3. 코드\n",
        "\n",
        "graph = {\n",
        "        'A': set(['B', 'C', 'E']),\n",
        "        'B': set(['A']),\n",
        "        'C': set(['A']),\n",
        "        'D': set(['E', 'F']),\n",
        "        'E': set(['A', 'D']),\n",
        "        'F': set(['D'])\n",
        "}\n",
        "\n",
        "def dfs(graph, start):\n",
        "    visited = []\n",
        "    stack = [start]\n",
        "\n",
        "    while stack:\n",
        "        n = stack.pop()\n",
        "        if n not in visited:\n",
        "            visited.append(n)\n",
        "            pass\n",
        "    return visited\n",
        "\n",
        "print(dfs(graph, 'E'))\n",
        "\n",
        "```"
      ],
      "metadata": {
        "id": "KyqIzkR8LOpD"
      }
    },
    {
      "cell_type": "code",
      "source": [
        "graph = {\n",
        "        'A': set(['B', 'C', 'E']),\n",
        "        'B': set(['A']),\n",
        "        'C': set(['A']),\n",
        "        'D': set(['E', 'F']),\n",
        "        'E': set(['A', 'D']),\n",
        "        'F': set(['D'])\n",
        "}\n",
        "\n",
        "def dfs(graph, start):\n",
        "    visited = []\n",
        "    stack = [start]\n",
        "\n",
        "    while stack:\n",
        "        n = stack.pop()\n",
        "        if n not in visited:\n",
        "            visited.append(n)\n",
        "            pass\n",
        "    return visited\n",
        "\n",
        "print(dfs(graph, 'E'))"
      ],
      "metadata": {
        "id": "SvWFZAVMK9fv"
      },
      "execution_count": null,
      "outputs": []
    },
    {
      "cell_type": "code",
      "source": [
        "graph = {\n",
        "    'A': set(['B', 'C', 'E']),\n",
        "    'B': set(['A']),\n",
        "    'C': set(['A']),\n",
        "    'D': set(['E', 'F']),\n",
        "    'E': set(['A', 'D']),\n",
        "    'F': set(['D'])\n",
        "}\n",
        "\n",
        "def dfs(graph, start):\n",
        "    visited = []\n",
        "    stack = [start]\n",
        "\n",
        "    while stack:\n",
        "        n = stack.pop()\n",
        "\n",
        "        if n not in visited:\n",
        "            visited.append(n)\n",
        "            stack.extend(graph[n])\n",
        "    return visited\n",
        "\n",
        "print(dfs(graph, 'E'))"
      ],
      "metadata": {
        "colab": {
          "base_uri": "https://localhost:8080/"
        },
        "id": "0avfsmXtK9dX",
        "outputId": "ad61e81d-124b-4eca-b275-cb0428bf685d"
      },
      "execution_count": 32,
      "outputs": [
        {
          "output_type": "stream",
          "name": "stdout",
          "text": [
            "['E', 'D', 'F', 'A', 'C', 'B']\n"
          ]
        }
      ]
    },
    {
      "cell_type": "code",
      "source": [
        "graph = {\n",
        "    'A': set(['B', 'C', 'E']),\n",
        "    'B': set(['A']),\n",
        "    'C': set(['A']),\n",
        "    'D': set(['E', 'F']),\n",
        "    'E': set(['A', 'D']),\n",
        "    'F': set(['D'])\n",
        "}\n",
        "\n",
        "def dfs(graph, start):\n",
        "    visited = []\n",
        "    stack = [start]\n",
        "\n",
        "    while stack:\n",
        "        n = stack.pop()\n",
        "        if n not in visited:\n",
        "            visited.append(n)\n",
        "            stack += (graph[n] - set(visited))\n",
        "    return visited\n",
        "\n",
        "print(dfs(graph, 'E'))"
      ],
      "metadata": {
        "colab": {
          "base_uri": "https://localhost:8080/"
        },
        "id": "u7PVXP1VK9bP",
        "outputId": "87154abb-2d5e-49c7-d494-6c5ff3da32a6"
      },
      "execution_count": 38,
      "outputs": [
        {
          "output_type": "stream",
          "name": "stdout",
          "text": [
            "['E', 'D', 'F', 'A', 'C', 'B']\n"
          ]
        }
      ]
    },
    {
      "cell_type": "code",
      "source": [],
      "metadata": {
        "id": "PuKAClIRK9ZT"
      },
      "execution_count": null,
      "outputs": []
    },
    {
      "cell_type": "code",
      "source": [],
      "metadata": {
        "id": "P6KNTnoaK9W0"
      },
      "execution_count": null,
      "outputs": []
    },
    {
      "cell_type": "markdown",
      "source": [
        "# 72번"
      ],
      "metadata": {
        "id": "CXmZrJv5OwU_"
      }
    },
    {
      "cell_type": "markdown",
      "source": [
        "# 73번\n"
      ],
      "metadata": {
        "id": "InwfKucfOyH6"
      }
    },
    {
      "cell_type": "code",
      "source": [],
      "metadata": {
        "id": "KhEVoqrDOy9R"
      },
      "execution_count": null,
      "outputs": []
    },
    {
      "cell_type": "markdown",
      "source": [
        "# 74번\n"
      ],
      "metadata": {
        "id": "rk3xxVMdPCdE"
      }
    },
    {
      "cell_type": "code",
      "source": [],
      "metadata": {
        "id": "npCLGJznPDWt"
      },
      "execution_count": 38,
      "outputs": []
    },
    {
      "cell_type": "code",
      "source": [],
      "metadata": {
        "id": "CcoKJMvnPD2J"
      },
      "execution_count": 38,
      "outputs": []
    },
    {
      "cell_type": "markdown",
      "source": [
        "# 75번"
      ],
      "metadata": {
        "id": "hkL9PE-QPGqx"
      }
    },
    {
      "cell_type": "code",
      "source": [],
      "metadata": {
        "id": "Wpu0uQsNPD5T"
      },
      "execution_count": 38,
      "outputs": []
    },
    {
      "cell_type": "markdown",
      "source": [
        "# 76번\n",
        "\n",
        "전쟁이 끝난 후, A나라에서는 폐허가 된 도시를 재건하려고 합니다. 그런데 이 땅은 전쟁의 중심지였으므로 전쟁 중 매립된 지뢰가 아직도 많이 남아 있었습니다. 정부는 가장 먼저 지뢰를 제거하기 위해 수색반을 꾸렸습니다.\n",
        "\n",
        "수색반은 가장 효율적인 지뢰 제거를 하고 싶습니다. 수색반은 도시를 격자 무늬로 나눠놓고 자신들이 수색할 수 있는 범위 내에 가장 많은 지뢰가 매립된 지역을 가장 먼저 작업하고 싶습니다.\n",
        "\n",
        "가장 먼저 테스트 케이스의 수를 나타내는 1이상 100 이하의 자연수가 주어집니다.\n",
        "각 테스트 케이스의 첫 줄에는 수색할 도시의 크기 a와 수색반이 한번에 수색 가능한 범위 b가 주어집니다. (a와 b 모두 정사각형의 가로 또는 세로를 나타냅니다. 예를들어 10이 주어지면 10x10칸의 크기를 나타냅니다.)\n",
        "\n",
        "그 후 a줄에 걸쳐 도시 내 지뢰가 있는지의 여부가 나타납니다.\n",
        "0은 지뢰가 없음 1은 지뢰가 있음을 뜻합니다.\n",
        "\n",
        "각 테스트 케이스에 대해 수색 가능한 범위 bxb 내에서 찾아낼 수 있는 가장 큰 지뢰의 갯수를 구하세요.\n",
        "\n",
        "```\n",
        "입력\n",
        "1\n",
        "5 3\n",
        "1 0 0 1 0\n",
        "0 1 0 0 1\n",
        "0 0 0 1 0\n",
        "0 0 0 0 0\n",
        "0 0 1 0 0\n",
        "\n",
        "출력\n",
        "3\n",
        "\n",
        "```"
      ],
      "metadata": {
        "id": "mXfgG8GyPJWY"
      }
    },
    {
      "cell_type": "code",
      "source": [
        "\n",
        "사각형 = 5\n",
        "탐색가능지역 = 3\n",
        "\n",
        "지뢰밭 = [[1, 0, 0, 1, 0],\n",
        "          [0, 1, 0, 0, 1],\n",
        "          [0, 0, 0, 1, 0],\n",
        "          [0, 0, 0, 0, 0],\n",
        "          [0, 0, 1, 0, 0]]\n",
        "\n"
      ],
      "metadata": {
        "id": "3bPq5BYOPI9b"
      },
      "execution_count": 55,
      "outputs": []
    },
    {
      "cell_type": "code",
      "source": [
        "import numpy as np\n",
        "\n",
        "arr = np.array(지뢰밭)\n"
      ],
      "metadata": {
        "id": "ItTdeBtDR3RO"
      },
      "execution_count": 56,
      "outputs": []
    },
    {
      "cell_type": "code",
      "source": [
        "arr[0:3, 0:3].sum"
      ],
      "metadata": {
        "colab": {
          "base_uri": "https://localhost:8080/"
        },
        "id": "UnF2J31NPD_O",
        "outputId": "e4a371ff-adc3-4216-f7da-46f8e3499591"
      },
      "execution_count": 57,
      "outputs": [
        {
          "output_type": "execute_result",
          "data": {
            "text/plain": [
              "array([[1, 0, 0],\n",
              "       [0, 1, 0],\n",
              "       [0, 0, 0]])"
            ]
          },
          "metadata": {},
          "execution_count": 57
        }
      ]
    },
    {
      "cell_type": "code",
      "source": [
        "arr[0:3, 0:3].sum()"
      ],
      "metadata": {
        "colab": {
          "base_uri": "https://localhost:8080/"
        },
        "id": "JnaO8vpQPEBs",
        "outputId": "75554b64-bbf8-47cf-857e-c8d6979bc590"
      },
      "execution_count": 58,
      "outputs": [
        {
          "output_type": "execute_result",
          "data": {
            "text/plain": [
              "2"
            ]
          },
          "metadata": {},
          "execution_count": 58
        }
      ]
    },
    {
      "cell_type": "code",
      "source": [
        "arr"
      ],
      "metadata": {
        "colab": {
          "base_uri": "https://localhost:8080/"
        },
        "id": "c3QGUQ2RSMmt",
        "outputId": "38f9c5ad-fde5-4d51-e099-da754e1b4092"
      },
      "execution_count": 61,
      "outputs": [
        {
          "output_type": "execute_result",
          "data": {
            "text/plain": [
              "array([[1, 0, 0, 1, 0],\n",
              "       [0, 1, 0, 0, 1],\n",
              "       [0, 0, 0, 1, 0],\n",
              "       [0, 0, 0, 0, 0],\n",
              "       [0, 0, 1, 0, 0]])"
            ]
          },
          "metadata": {},
          "execution_count": 61
        }
      ]
    },
    {
      "cell_type": "code",
      "source": [
        "print(arr[0:3, 0:3])\n",
        "print(arr[0:3, 1:4])\n",
        "print(arr[0:3, 2:5])\n",
        "\n",
        "print(arr[1:4, 0:3])\n",
        "print(arr[1:4, 1:4])\n",
        "print(arr[1:4, 2:5])\n",
        "\n",
        "\n"
      ],
      "metadata": {
        "colab": {
          "base_uri": "https://localhost:8080/"
        },
        "id": "zl9GdrwEPEEh",
        "outputId": "9ac912fe-eca8-4dc5-ed26-d62094a540fc"
      },
      "execution_count": 62,
      "outputs": [
        {
          "output_type": "stream",
          "name": "stdout",
          "text": [
            "[[1 0 0]\n",
            " [0 1 0]\n",
            " [0 0 0]]\n",
            "[[0 0 1]\n",
            " [1 0 0]\n",
            " [0 0 1]]\n",
            "[[0 1 0]\n",
            " [0 0 1]\n",
            " [0 1 0]]\n"
          ]
        }
      ]
    },
    {
      "cell_type": "code",
      "source": [
        "사각형 = 5\n",
        "탐색가능지역 = 3\n",
        "\n",
        "지뢰밭 = [[1, 0, 0, 1, 0],\n",
        "          [0, 1, 0, 0, 1],\n",
        "          [0, 0, 0, 1, 0],\n",
        "          [0, 0, 0, 0, 0],\n",
        "          [0, 0, 1, 0, 0]]\n",
        "arr = np.array(지뢰밭)\n",
        "answer = []\n",
        "for i in range(사각형 - 탐색가능지역 + 1):\n",
        "    for j in range(사각형 - 탐색가능지역 + 1):\n",
        "        answer.append(arr[i:(i+탐색가능지역), j:(j+탐색가능지역)].sum())\n",
        "\n",
        "max(answer)"
      ],
      "metadata": {
        "colab": {
          "base_uri": "https://localhost:8080/"
        },
        "id": "7cuKbgGxPEHX",
        "outputId": "c06d87ae-d17c-49bf-a0c6-40c7eda8873b"
      },
      "execution_count": 71,
      "outputs": [
        {
          "output_type": "execute_result",
          "data": {
            "text/plain": [
              "3"
            ]
          },
          "metadata": {},
          "execution_count": 71
        }
      ]
    },
    {
      "cell_type": "code",
      "source": [],
      "metadata": {
        "id": "yiuk3T_OPEKK"
      },
      "execution_count": 38,
      "outputs": []
    },
    {
      "cell_type": "code",
      "source": [
        "# 라이브러리 사용금지\n",
        "\n",
        "answer = [[1, 0, 0],\n",
        "          [0, 1, 0],\n",
        "          [0, 0, 0]]\n",
        "\n",
        "# sum(answer) # error\n",
        "sum(answer, [])\n",
        "sum(sum(answer, []))"
      ],
      "metadata": {
        "id": "fVwwnEaLPENA"
      },
      "execution_count": 38,
      "outputs": []
    },
    {
      "cell_type": "code",
      "source": [],
      "metadata": {
        "id": "S8MvA-dwPEOu"
      },
      "execution_count": null,
      "outputs": []
    },
    {
      "cell_type": "markdown",
      "source": [
        "# 문제77 : 가장 긴 공통 부분 문자열\n",
        "\n",
        "가장 긴 공통 부분 문자열(Longest Common Subsequence)이란 A, B 두 문자열이 주어졌을 때\n",
        "두 열에 공통으로 들어 있는 요소로 만들 수 있는 가장 긴 부분열을 말합니다.\n",
        "여기서 부분열이란 다른 문자열에서 몇몇의 문자가 빠져 있어도 순서가 바뀌지 않은 열을 말합니다.\n",
        "\n",
        "예를 들어 S1 = ['T', 'H', 'E', 'S', 'T', 'R', 'I', 'N', 'G', 'S']  S2 = ['T', 'H', 'I', 'S', 'I', 'S']라는 두 문자열이 있을 때\n",
        "둘 사이의 부분 공통 문자열의 길이는 ['T', 'H', 'S', 'T', 'I', 'S'] 의 6개가 됩니다.\n",
        "\n",
        "이처럼 두 문자열이 주어지면 가장 긴 부분 공통 문자열의 길이를 반환하는 프로그램을 만들어 주세요.\n",
        "\n",
        "두 개의 문자열이 한 줄에 하나씩 주어집니다.\n",
        "문자열은 알파벳 대문자로만 구성되며 그 길이는 100글자가 넘어가지 않습니다.\n",
        "\n",
        "출력은 이 두 문자열의 가장 긴 부분 공통 문자열의 길이를 반환하면 됩니다.\n",
        "```\n",
        "- Test Case -\n",
        "\n",
        "입력\n",
        "THISISSTRINGS\n",
        "THISIS\n",
        "\n",
        "출력\n",
        "6\n",
        "\n",
        "-\n",
        "\n",
        "입력\n",
        "THISISSTRINGS\n",
        "TATHISISKKQQAEW\n",
        "\n",
        "출력\n",
        "6\n",
        "\n",
        "-\n",
        "\n",
        "입력\n",
        "THISISSTRINGS\n",
        "KIOTHIKESSISKKQQAEW\n",
        "\n",
        "출력\n",
        "3\n",
        "\n",
        "-\n",
        "\n",
        "입력\n",
        "THISISSTRINGS\n",
        "TKHKIKSIS\n",
        "\n",
        "출력\n",
        "3\n",
        "```"
      ],
      "metadata": {
        "id": "4r2Q1AAhWsY3"
      }
    },
    {
      "cell_type": "code",
      "source": [],
      "metadata": {
        "id": "vNjVervAWx4C"
      },
      "execution_count": null,
      "outputs": []
    },
    {
      "cell_type": "markdown",
      "source": [
        "# 문제78 : 원형테이블"
      ],
      "metadata": {
        "id": "zyepcuXQYj2c"
      }
    },
    {
      "cell_type": "code",
      "source": [
        "from collections import deque\n",
        "\n",
        "\n",
        "n = 6\n",
        "f = 2\n",
        "food = list(range(1, n+1))\n",
        "food"
      ],
      "metadata": {
        "colab": {
          "base_uri": "https://localhost:8080/"
        },
        "id": "h3KSAzUXWxms",
        "outputId": "2e76e86e-28f7-40f0-f9cf-e6bb39e02f1a"
      },
      "execution_count": 92,
      "outputs": [
        {
          "output_type": "execute_result",
          "data": {
            "text/plain": [
              "[1, 2, 3, 4, 5, 6]"
            ]
          },
          "metadata": {},
          "execution_count": 92
        }
      ]
    },
    {
      "cell_type": "code",
      "source": [
        "food_r = deque(food)\n",
        "food_r.popleft()\n",
        "food_r.rotate(-2)\n",
        "food_r"
      ],
      "metadata": {
        "id": "1yqx-mDOc-NM"
      },
      "execution_count": null,
      "outputs": []
    },
    {
      "cell_type": "code",
      "source": [
        "food_r = deque(food)\n",
        "print(f'먹은 음식: {food_r.popleft()}')\n",
        "food_r.rotate(-2)\n",
        "print(f'회전 후: {food_r}')\n",
        "\n",
        "print(f'먹은 음식: {food_r.popleft()}')\n",
        "food_r.rotate(-2)\n",
        "print(f'회전 후: {food_r}')\n",
        "\n",
        "print(f'먹은 음식: {food_r.popleft()}')\n",
        "food_r.rotate(-2)\n",
        "print(f'회전 후: {food_r}')"
      ],
      "metadata": {
        "colab": {
          "base_uri": "https://localhost:8080/"
        },
        "id": "fGpe7TmlWxkB",
        "outputId": "26910d18-f7bf-4e44-aafe-f7d45d023c5a"
      },
      "execution_count": 98,
      "outputs": [
        {
          "output_type": "execute_result",
          "data": {
            "text/plain": [
              "deque([4, 5, 6, 2, 3])"
            ]
          },
          "metadata": {},
          "execution_count": 98
        }
      ]
    },
    {
      "cell_type": "code",
      "source": [
        "from collections import deque\n",
        "def solution(n, k):\n",
        "    food = range(1, n+1)\n",
        "    food_r = deque(food)\n",
        "\n",
        "    while len(food_r) > 2:\n",
        "        food_r.popleft()\n",
        "        food_r.rotate(-(k-1))\n",
        "    return list(food_r)\n",
        "solution(6, 3)"
      ],
      "metadata": {
        "colab": {
          "base_uri": "https://localhost:8080/"
        },
        "id": "hL4QVKTxWxh6",
        "outputId": "1ba17b5e-915a-4cef-bb56-1998fec9ba77"
      },
      "execution_count": 104,
      "outputs": [
        {
          "output_type": "execute_result",
          "data": {
            "text/plain": [
              "[3, 5]"
            ]
          },
          "metadata": {},
          "execution_count": 104
        }
      ]
    },
    {
      "cell_type": "code",
      "source": [],
      "metadata": {
        "id": "lhyBMKC_Wxf8"
      },
      "execution_count": null,
      "outputs": []
    },
    {
      "cell_type": "markdown",
      "source": [
        "# 문제79 : 순회하는 리스트"
      ],
      "metadata": {
        "id": "MgoSLYsYeAQr"
      }
    },
    {
      "cell_type": "code",
      "source": [],
      "metadata": {
        "id": "GkNzSLwgd7DE"
      },
      "execution_count": null,
      "outputs": []
    },
    {
      "cell_type": "code",
      "source": [],
      "metadata": {
        "id": "tHJiqBumeAyc"
      },
      "execution_count": null,
      "outputs": []
    },
    {
      "cell_type": "markdown",
      "source": [
        "# 문제80 : 순열과 조합"
      ],
      "metadata": {
        "id": "J_MlKjhBeEQl"
      }
    },
    {
      "cell_type": "code",
      "source": [],
      "metadata": {
        "id": "jtHm_aHMeFeO"
      },
      "execution_count": null,
      "outputs": []
    },
    {
      "cell_type": "markdown",
      "source": [
        "# 문제81 : 지뢰찾기\n",
        "\n",
        "```\n",
        "데이터\n",
        "flag = [] #지뢰 없이 깃발만 있는 리스트\n",
        "minesweeper = [] #지뢰를 찾은 리스트\n",
        "for i in range(5):\n",
        "    flag.append(input('깃발 값과 함께 입력하세요 :').split(' '))\n",
        "\n",
        "pass\n",
        "print(flag)\n",
        "print(minesweeper)\n",
        "\n",
        "\n",
        "\n",
        "입력\n",
        "0 1 0 0 0\n",
        "0 0 0 0 0\n",
        "0 0 0 1 0\n",
        "0 0 1 0 0\n",
        "0 0 0 0 0\n",
        "\n",
        "출력\n",
        "* f * 0 0\n",
        "0 * 0 * 0\n",
        "0 0 * f *\n",
        "0 * f * 0\n",
        "0 0 * 0 0\n",
        "\n",
        "```"
      ],
      "metadata": {
        "id": "ZL97kZloeJZS"
      }
    },
    {
      "cell_type": "code",
      "source": [
        "import numpy as np\n",
        "\n",
        "matrix = [\n",
        "    [0, 1, 0, 0, 0],\n",
        "    [0, 0, 0, 0, 0],\n",
        "    [0, 0, 0, 1, 0],\n",
        "    [0, 0, 1, 0, 0],\n",
        "    [0, 0, 0, 1, 0]\n",
        "]\n",
        "\n",
        "matrix_arr = np.array(matrix)\n",
        "matrix_arr = np.where(matrix_arr==1, 'f', matrix_arr)\n",
        "\n",
        "for v, h in zip(np.where(matrix_arr=='f')[0], np.where(matrix_arr=='f')[1]):\n",
        "    if v != 0:\n",
        "        matrix_arr[v-1, h] = '*'\n",
        "    if h != 0:\n",
        "        matrix_arr[v, h-1] = '*'\n",
        "    if v+1 < matrix_arr.shape[0]:\n",
        "        matrix_arr[v+1, h] = '*'\n",
        "    if h+1 < matrix_arr.shape[1]:\n",
        "        matrix_arr[v, h+1] = '*'\n",
        "\n",
        "print(matrix_arr)"
      ],
      "metadata": {
        "colab": {
          "base_uri": "https://localhost:8080/"
        },
        "id": "tzsghrVkeXk-",
        "outputId": "3b16c28c-76ce-41d8-eff8-82dfbc21c3a0"
      },
      "execution_count": 114,
      "outputs": [
        {
          "output_type": "stream",
          "name": "stdout",
          "text": [
            "[['*' 'f' '*' '0' '0']\n",
            " ['0' '*' '0' '*' '0']\n",
            " ['0' '0' '*' 'f' '*']\n",
            " ['0' '*' 'f' '*' '0']\n",
            " ['0' '0' '*' 'f' '*']]\n"
          ]
        }
      ]
    },
    {
      "cell_type": "code",
      "source": [],
      "metadata": {
        "id": "9a7TIk2peXbe"
      },
      "execution_count": null,
      "outputs": []
    },
    {
      "cell_type": "code",
      "source": [],
      "metadata": {
        "id": "XRmvoCqfeXZN"
      },
      "execution_count": null,
      "outputs": []
    }
  ]
}